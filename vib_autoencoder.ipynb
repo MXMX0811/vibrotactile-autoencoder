{
  "cells": [
    {
      "cell_type": "code",
      "execution_count": null,
      "metadata": {
        "id": "I4tjnPiQLLj_"
      },
      "outputs": [],
      "source": [
        "'''\n",
        "Author: Mingxin Zhang m.zhang@hapis.u-tokyo.ac.jp\n",
        "Date: 2023-03-06 03:29:29\n",
        "LastEditors: Mingxin Zhang\n",
        "LastEditTime: 2023-04-12 01:54:25\n",
        "Copyright (c) 2023 by Mingxin Zhang, All Rights Reserved. \n",
        "'''"
      ]
    },
    {
      "cell_type": "code",
      "execution_count": 1,
      "metadata": {
        "colab": {
          "base_uri": "https://localhost:8080/"
        },
        "id": "vwi9Bt6c1U4M",
        "outputId": "c6d79c6f-917a-4387-a515-bd86902f4391"
      },
      "outputs": [
        {
          "name": "stdout",
          "output_type": "stream",
          "text": [
            "Mounted at /content/drive\n"
          ]
        }
      ],
      "source": [
        "from google.colab import drive\n",
        "drive.mount('/content/drive')"
      ]
    },
    {
      "cell_type": "code",
      "execution_count": 2,
      "metadata": {
        "id": "RWwZPCr7SzCP"
      },
      "outputs": [],
      "source": [
        "import matplotlib.pyplot as plt\n",
        "import numpy as np\n",
        "import torch\n",
        "import torchvision\n",
        "import pickle\n",
        "from sklearn.metrics import confusion_matrix, ConfusionMatrixDisplay\n",
        "from sklearn import preprocessing\n",
        "from torchvision import transforms\n",
        "from torch.utils.data import DataLoader\n",
        "from torch import nn\n",
        "import torch.nn.functional as F\n",
        "import torch.optim as optim"
      ]
    },
    {
      "cell_type": "code",
      "execution_count": 3,
      "metadata": {
        "id": "2RBevBfESzCR"
      },
      "outputs": [],
      "source": [
        "class Encoder(nn.Module):\n",
        "    def __init__(self, encoded_space_dim):\n",
        "        super().__init__()\n",
        "        \n",
        "        ### Convolutional section\n",
        "        self.conv1 = nn.Conv2d(1, 8, 3, padding=1)\n",
        "        self.conv2 = nn.Conv2d(8, 16, 5, padding=2)\n",
        "        self.bn1 = nn.BatchNorm2d(16)\n",
        "        self.conv3 = nn.Conv2d(16, 32, 5, padding=0)\n",
        "        self.bn2 = nn.BatchNorm2d(32)\n",
        "\n",
        "        self.pool = nn.MaxPool2d(2)\n",
        "\n",
        "        self.flatten = nn.Flatten(start_dim=1)\n",
        "\n",
        "        self.fc1 = nn.Linear(32 * 1 * 23, encoded_space_dim)\n",
        "        \n",
        "    def forward(self, x):\n",
        "        x = F.relu(self.conv1(x))\n",
        "        x = self.pool(self.conv2(x))\n",
        "        x = F.relu(self.bn1(x))\n",
        "        x = self.pool(self.conv3(x))\n",
        "        x = F.relu(self.bn2(x))\n",
        "        x = self.flatten(x)\n",
        "\n",
        "        x = self.fc1(x)\n",
        "        return x\n",
        "\n",
        "\n",
        "class Decoder(nn.Module):\n",
        "    def __init__(self, encoded_space_dim):\n",
        "        super().__init__()\n",
        "        self.fc1 = nn.Linear(encoded_space_dim, 32 * 1 * 23)\n",
        "        self.unflatten = nn.Unflatten(dim=1, unflattened_size=(32, 1, 23))\n",
        "\n",
        "        self.deconv1 = nn.ConvTranspose2d(32, 16, 5, stride=2, output_padding=1)\n",
        "        self.bn1 = nn.BatchNorm2d(16)\n",
        "        self.deconv2 = nn.ConvTranspose2d(16, 8, 5, stride=2, padding=2, output_padding=1)\n",
        "        self.bn2 = nn.BatchNorm2d(8)\n",
        "        self.deconv3 = nn.ConvTranspose2d(8, 1, 3, padding=1)\n",
        "        \n",
        "    def forward(self, x):\n",
        "        x = F.relu(self.fc1(x))\n",
        "        x = self.unflatten(x)\n",
        "        x = F.relu(self.bn1(self.deconv1(x)))\n",
        "        x = F.relu(self.bn2(self.deconv2(x)))\n",
        "        x = self.deconv3(x)\n",
        "        return x\n",
        "\n",
        "\n",
        "class Classifier(nn.Module):\n",
        "    def __init__(self, encoded_space_dim):\n",
        "        super().__init__()\n",
        "        self.fc1 = nn.Linear(encoded_space_dim, 16)\n",
        "        self.fc2 = nn.Linear(16, 7)\n",
        "        \n",
        "    def forward(self, x):\n",
        "        x = F.relu(self.fc1(x))\n",
        "        x = F.softmax(self.fc2(x), dim=1) #dim0=batch, dim1=element\n",
        "        return x\n",
        "    \n",
        "\n",
        "class AutoEncoder(nn.Module):\n",
        "    def __init__(self, encoded_space_dim):\n",
        "        super().__init__()\n",
        "        self.encoder = Encoder(encoded_space_dim)\n",
        "        self.decoder = Decoder(encoded_space_dim)\n",
        "        self.classifier = Classifier(encoded_space_dim)\n",
        "        \n",
        "    def forward(self, x):\n",
        "        feat = self.encoder(x)\n",
        "        pred_img = self.decoder(feat)\n",
        "        pred_label = self.classifier(feat)\n",
        "        return feat, pred_img, pred_label"
      ]
    },
    {
      "cell_type": "code",
      "execution_count": 4,
      "metadata": {
        "colab": {
          "base_uri": "https://localhost:8080/"
        },
        "id": "QCDDdAwD1DHU",
        "outputId": "6800f84b-73eb-4a30-b499-32054aca789f"
      },
      "outputs": [
        {
          "name": "stdout",
          "output_type": "stream",
          "text": [
            "Selected device: cuda\n"
          ]
        }
      ],
      "source": [
        "device = torch.device(\"cuda\") if torch.cuda.is_available() else torch.device(\"cpu\")\n",
        "print(f'Selected device: {device}')\n",
        "\n",
        "with open('/content/drive/MyDrive/Colab Notebooks/vibrotactile-encoder/trainset.pickle', 'rb') as file:\n",
        "# with open('trainset.pickle', 'rb') as file:\n",
        "    trainset = pickle.load(file)\n",
        "\n",
        "spectrogram = torch.from_numpy(trainset['spectrogram'].astype(np.float32))\n",
        "texture = trainset['texture']\n",
        "le = preprocessing.LabelEncoder()\n",
        "labels = torch.as_tensor(le.fit_transform(texture))\n",
        "\n",
        "train_dataset = torch.utils.data.TensorDataset(spectrogram, labels) \n",
        "train_dataloader = torch.utils.data.DataLoader( \n",
        "    dataset = train_dataset, \n",
        "    batch_size = 64,\n",
        "    shuffle = True, \n",
        "    num_workers = 2, \n",
        "    ) \n",
        "\n",
        "mse = nn.MSELoss()\n",
        "crossentropy = nn.CrossEntropyLoss()\n",
        "\n",
        "encoder = Encoder(encoded_space_dim = 16)\n",
        "decoder = Decoder(encoded_space_dim = 16)\n",
        "classifier = Classifier(encoded_space_dim = 16)\n",
        "params_to_optimize = [\n",
        "    {'params': encoder.parameters()},\n",
        "    {'params': decoder.parameters()},\n",
        "    {'params': classifier.parameters()}\n",
        "]\n",
        "\n",
        "optimizer = optim.Adam(params_to_optimize, lr=5e-4, weight_decay=1e-05)\n",
        "scheduler = optim.lr_scheduler.ReduceLROnPlateau(optimizer, 'min', factor=0.8, patience=5)\n",
        "\n",
        "encoder.to(device)\n",
        "decoder.to(device)\n",
        "classifier.to(device)\n",
        "\n",
        "epoch_num = 150"
      ]
    },
    {
      "cell_type": "code",
      "execution_count": 5,
      "metadata": {
        "colab": {
          "base_uri": "https://localhost:8080/"
        },
        "id": "1s_WeV7TSzCR",
        "outputId": "c74fa8c8-2771-4ac3-a110-a5209e848664"
      },
      "outputs": [
        {
          "name": "stdout",
          "output_type": "stream",
          "text": [
            "Epoch:  1 Accuracy:  0.3158011 Autoencoder Loss:  634.64501953125\n",
            "Epoch:  2 Accuracy:  0.5725691 Autoencoder Loss:  121.48304748535156\n",
            "Epoch:  3 Accuracy:  0.5882597 Autoencoder Loss:  56.90730285644531\n",
            "Epoch:  4 Accuracy:  0.5929006 Autoencoder Loss:  57.17496109008789\n",
            "Epoch:  5 Accuracy:  0.5953039 Autoencoder Loss:  55.57796859741211\n",
            "Epoch:  6 Accuracy:  0.5955801 Autoencoder Loss:  53.69158935546875\n",
            "Epoch:  7 Accuracy:  0.5970994 Autoencoder Loss:  53.917911529541016\n",
            "Epoch:  8 Accuracy:  0.5974033 Autoencoder Loss:  52.283260345458984\n",
            "Epoch:  9 Accuracy:  0.59743094 Autoencoder Loss:  50.82073974609375\n",
            "Epoch:  10 Accuracy:  0.59823203 Autoencoder Loss:  52.15687942504883\n",
            "Epoch:  11 Accuracy:  0.5985083 Autoencoder Loss:  56.89292526245117\n",
            "Epoch:  12 Accuracy:  0.5979834 Autoencoder Loss:  51.31023025512695\n",
            "Epoch:  13 Accuracy:  0.6079558 Autoencoder Loss:  52.27729034423828\n",
            "Epoch:  14 Accuracy:  0.6536464 Autoencoder Loss:  53.070858001708984\n",
            "Epoch:  15 Accuracy:  0.6627072 Autoencoder Loss:  51.6822509765625\n",
            "Epoch:  16 Accuracy:  0.66878456 Autoencoder Loss:  52.769248962402344\n",
            "Epoch:  17 Accuracy:  0.67279005 Autoencoder Loss:  51.50769805908203\n",
            "Epoch:  18 Accuracy:  0.6766851 Autoencoder Loss:  51.21426010131836\n",
            "Epoch:  19 Accuracy:  0.67914367 Autoencoder Loss:  52.51082229614258\n",
            "Epoch:  20 Accuracy:  0.6821547 Autoencoder Loss:  52.702396392822266\n",
            "Epoch:  21 Accuracy:  0.68403316 Autoencoder Loss:  50.680355072021484\n",
            "Epoch:  22 Accuracy:  0.6861326 Autoencoder Loss:  52.42505645751953\n",
            "Epoch:  23 Accuracy:  0.68734807 Autoencoder Loss:  49.13425064086914\n",
            "Epoch:  24 Accuracy:  0.689116 Autoencoder Loss:  53.656654357910156\n",
            "Epoch:  25 Accuracy:  0.7045856 Autoencoder Loss:  49.945343017578125\n",
            "Epoch:  26 Accuracy:  0.75121546 Autoencoder Loss:  50.80265426635742\n",
            "Epoch:  27 Accuracy:  0.7583978 Autoencoder Loss:  50.37312316894531\n",
            "Epoch:  28 Accuracy:  0.76104975 Autoencoder Loss:  50.829811096191406\n",
            "Epoch:  29 Accuracy:  0.7646961 Autoencoder Loss:  48.76914596557617\n",
            "Epoch:  30 Accuracy:  0.7659116 Autoencoder Loss:  50.919227600097656\n",
            "Epoch:  31 Accuracy:  0.7679558 Autoencoder Loss:  51.78354263305664\n",
            "Epoch:  32 Accuracy:  0.7704696 Autoencoder Loss:  49.885650634765625\n",
            "Epoch:  33 Accuracy:  0.7708564 Autoencoder Loss:  53.53675842285156\n",
            "Epoch:  34 Accuracy:  0.77223754 Autoencoder Loss:  49.743343353271484\n",
            "Epoch:  35 Accuracy:  0.77267957 Autoencoder Loss:  48.584938049316406\n",
            "Epoch:  36 Accuracy:  0.77436465 Autoencoder Loss:  51.967777252197266\n",
            "Epoch:  37 Accuracy:  0.7758287 Autoencoder Loss:  53.8213005065918\n",
            "Epoch:  38 Accuracy:  0.7748066 Autoencoder Loss:  51.3941650390625\n",
            "Epoch:  39 Accuracy:  0.7764917 Autoencoder Loss:  49.84357833862305\n",
            "Epoch:  40 Accuracy:  0.77812153 Autoencoder Loss:  48.44957733154297\n",
            "Epoch:  41 Accuracy:  0.77676797 Autoencoder Loss:  51.248050689697266\n",
            "Epoch:  42 Accuracy:  0.77781767 Autoencoder Loss:  52.43514633178711\n",
            "Epoch:  43 Accuracy:  0.8113812 Autoencoder Loss:  54.375770568847656\n",
            "Epoch:  44 Accuracy:  0.8216298 Autoencoder Loss:  50.20402908325195\n",
            "Epoch:  45 Accuracy:  0.8229558 Autoencoder Loss:  51.6813850402832\n",
            "Epoch:  46 Accuracy:  0.82654697 Autoencoder Loss:  50.32309341430664\n",
            "Epoch:  47 Accuracy:  0.8285359 Autoencoder Loss:  50.423526763916016\n",
            "Epoch:  48 Accuracy:  0.83013815 Autoencoder Loss:  53.007659912109375\n",
            "Epoch:  49 Accuracy:  0.8319061 Autoencoder Loss:  48.41384506225586\n",
            "Epoch:  50 Accuracy:  0.8335635 Autoencoder Loss:  51.89881134033203\n",
            "Epoch:  51 Accuracy:  0.8332873 Autoencoder Loss:  48.727149963378906\n",
            "Epoch:  52 Accuracy:  0.8341989 Autoencoder Loss:  51.180477142333984\n",
            "Epoch:  53 Accuracy:  0.8367403 Autoencoder Loss:  51.152706146240234\n",
            "Epoch:  54 Accuracy:  0.8362707 Autoencoder Loss:  50.90375900268555\n",
            "Epoch:  55 Accuracy:  0.8373757 Autoencoder Loss:  49.21210861206055\n",
            "Epoch:  56 Accuracy:  0.8383978 Autoencoder Loss:  48.57950973510742\n",
            "Epoch:  57 Accuracy:  0.8394475 Autoencoder Loss:  51.385746002197266\n",
            "Epoch:  58 Accuracy:  0.839558 Autoencoder Loss:  51.10737991333008\n",
            "Epoch:  59 Accuracy:  0.83947515 Autoencoder Loss:  49.985435485839844\n",
            "Epoch:  60 Accuracy:  0.8399171 Autoencoder Loss:  51.61215591430664\n",
            "Epoch:  61 Accuracy:  0.8398895 Autoencoder Loss:  49.75428009033203\n",
            "Epoch:  62 Accuracy:  0.84063536 Autoencoder Loss:  49.87249755859375\n",
            "Epoch:  63 Accuracy:  0.84422654 Autoencoder Loss:  48.51360321044922\n",
            "Epoch:  64 Accuracy:  0.8418508 Autoencoder Loss:  48.86744689941406\n",
            "Epoch:  65 Accuracy:  0.8429282 Autoencoder Loss:  49.751800537109375\n",
            "Epoch:  66 Accuracy:  0.84337014 Autoencoder Loss:  50.98382568359375\n",
            "Epoch:  67 Accuracy:  0.8429282 Autoencoder Loss:  52.58564376831055\n",
            "Epoch:  68 Accuracy:  0.8446409 Autoencoder Loss:  48.53203201293945\n",
            "Epoch:  69 Accuracy:  0.8459945 Autoencoder Loss:  48.55720901489258\n",
            "Epoch:  70 Accuracy:  0.8442818 Autoencoder Loss:  48.346290588378906\n",
            "Epoch:  71 Accuracy:  0.84483427 Autoencoder Loss:  50.910404205322266\n",
            "Epoch:  72 Accuracy:  0.8459392 Autoencoder Loss:  49.52733612060547\n",
            "Epoch:  73 Accuracy:  0.84629834 Autoencoder Loss:  48.1971549987793\n",
            "Epoch:  74 Accuracy:  0.8453591 Autoencoder Loss:  47.51788330078125\n",
            "Epoch:  75 Accuracy:  0.8467127 Autoencoder Loss:  49.09387969970703\n",
            "Epoch:  76 Accuracy:  0.8464641 Autoencoder Loss:  50.32062530517578\n",
            "Epoch:  77 Accuracy:  0.8463812 Autoencoder Loss:  52.97310256958008\n",
            "Epoch:  78 Accuracy:  0.846989 Autoencoder Loss:  51.08003234863281\n",
            "Epoch:  79 Accuracy:  0.846989 Autoencoder Loss:  47.972415924072266\n",
            "Epoch:  80 Accuracy:  0.84676796 Autoencoder Loss:  51.724395751953125\n",
            "Epoch:  81 Accuracy:  0.84732044 Autoencoder Loss:  52.859519958496094\n",
            "Epoch:  82 Accuracy:  0.84729284 Autoencoder Loss:  49.05104446411133\n",
            "Epoch:  83 Accuracy:  0.8486464 Autoencoder Loss:  49.90853500366211\n",
            "Epoch:  84 Accuracy:  0.8490332 Autoencoder Loss:  51.451602935791016\n",
            "Epoch:  85 Accuracy:  0.849116 Autoencoder Loss:  48.050838470458984\n",
            "Epoch:  86 Accuracy:  0.8487845 Autoencoder Loss:  51.52167510986328\n",
            "Epoch:  87 Accuracy:  0.8501105 Autoencoder Loss:  49.78445816040039\n",
            "Epoch:  88 Accuracy:  0.8490332 Autoencoder Loss:  49.296875\n",
            "Epoch:  89 Accuracy:  0.8500553 Autoencoder Loss:  48.66374969482422\n",
            "Epoch:  90 Accuracy:  0.8495304 Autoencoder Loss:  49.030914306640625\n",
            "Epoch:  91 Accuracy:  0.8496409 Autoencoder Loss:  48.23481750488281\n",
            "Epoch:  92 Accuracy:  0.84972376 Autoencoder Loss:  53.21624755859375\n",
            "Epoch:  93 Accuracy:  0.85074586 Autoencoder Loss:  49.912052154541016\n",
            "Epoch:  94 Accuracy:  0.8503039 Autoencoder Loss:  48.28279113769531\n",
            "Epoch:  95 Accuracy:  0.8509669 Autoencoder Loss:  50.51898956298828\n",
            "Epoch:  96 Accuracy:  0.85129833 Autoencoder Loss:  49.4107551574707\n",
            "Epoch:  97 Accuracy:  0.8503039 Autoencoder Loss:  48.22597885131836\n",
            "Epoch:  98 Accuracy:  0.8520718 Autoencoder Loss:  48.65053176879883\n",
            "Epoch:  99 Accuracy:  0.8510774 Autoencoder Loss:  50.63030242919922\n",
            "Epoch:  100 Accuracy:  0.85143644 Autoencoder Loss:  49.942481994628906\n",
            "Epoch:  101 Accuracy:  0.85127074 Autoencoder Loss:  48.08846664428711\n",
            "Epoch:  102 Accuracy:  0.8523481 Autoencoder Loss:  48.041603088378906\n",
            "Epoch:  103 Accuracy:  0.8515746 Autoencoder Loss:  51.145320892333984\n",
            "Epoch:  104 Accuracy:  0.8512155 Autoencoder Loss:  47.477657318115234\n",
            "Epoch:  105 Accuracy:  0.8514641 Autoencoder Loss:  48.61796951293945\n",
            "Epoch:  106 Accuracy:  0.8524862 Autoencoder Loss:  50.36756896972656\n",
            "Epoch:  107 Accuracy:  0.8524862 Autoencoder Loss:  50.15681076049805\n",
            "Epoch:  108 Accuracy:  0.853232 Autoencoder Loss:  49.3490104675293\n",
            "Epoch:  109 Accuracy:  0.8523757 Autoencoder Loss:  54.74907302856445\n",
            "Epoch:  110 Accuracy:  0.85165745 Autoencoder Loss:  50.48158645629883\n",
            "Epoch:  111 Accuracy:  0.85240334 Autoencoder Loss:  49.625709533691406\n",
            "Epoch:  112 Accuracy:  0.85290056 Autoencoder Loss:  47.40211868286133\n",
            "Epoch:  113 Accuracy:  0.85176796 Autoencoder Loss:  49.26061248779297\n",
            "Epoch:  114 Accuracy:  0.85292816 Autoencoder Loss:  49.04698944091797\n",
            "Epoch:  115 Accuracy:  0.8528453 Autoencoder Loss:  49.38827133178711\n",
            "Epoch:  116 Accuracy:  0.8535083 Autoencoder Loss:  46.654937744140625\n",
            "Epoch:  117 Accuracy:  0.85254145 Autoencoder Loss:  49.183956146240234\n",
            "Epoch:  118 Accuracy:  0.8528453 Autoencoder Loss:  48.127708435058594\n",
            "Epoch:  119 Accuracy:  0.85342544 Autoencoder Loss:  47.573524475097656\n",
            "Epoch:  120 Accuracy:  0.8531768 Autoencoder Loss:  48.646183013916016\n",
            "Epoch:  121 Accuracy:  0.8528453 Autoencoder Loss:  51.05375289916992\n",
            "Epoch:  122 Accuracy:  0.85281765 Autoencoder Loss:  48.8213005065918\n",
            "Epoch:  123 Accuracy:  0.85303867 Autoencoder Loss:  47.65324783325195\n",
            "Epoch:  124 Accuracy:  0.8528453 Autoencoder Loss:  50.70339584350586\n",
            "Epoch:  125 Accuracy:  0.85370165 Autoencoder Loss:  50.759063720703125\n",
            "Epoch:  126 Accuracy:  0.85342544 Autoencoder Loss:  48.33277893066406\n",
            "Epoch:  127 Accuracy:  0.85265195 Autoencoder Loss:  51.31702423095703\n",
            "Epoch:  128 Accuracy:  0.8531492 Autoencoder Loss:  49.80940628051758\n",
            "Epoch:  129 Accuracy:  0.8544475 Autoencoder Loss:  49.37886428833008\n",
            "Epoch:  130 Accuracy:  0.8540884 Autoencoder Loss:  48.16206741333008\n",
            "Epoch:  131 Accuracy:  0.85348064 Autoencoder Loss:  49.39118576049805\n",
            "Epoch:  132 Accuracy:  0.85395026 Autoencoder Loss:  49.9337272644043\n",
            "Epoch:  133 Accuracy:  0.8531215 Autoencoder Loss:  50.13607406616211\n",
            "Epoch:  134 Accuracy:  0.8536188 Autoencoder Loss:  49.0145149230957\n",
            "Epoch:  135 Accuracy:  0.8542541 Autoencoder Loss:  53.48387908935547\n",
            "Epoch:  136 Accuracy:  0.8543094 Autoencoder Loss:  49.516605377197266\n",
            "Epoch:  137 Accuracy:  0.85461324 Autoencoder Loss:  48.648311614990234\n",
            "Epoch:  138 Accuracy:  0.853895 Autoencoder Loss:  47.71189880371094\n",
            "Epoch:  139 Accuracy:  0.855663 Autoencoder Loss:  49.50993728637695\n",
            "Epoch:  140 Accuracy:  0.85395026 Autoencoder Loss:  49.95151901245117\n",
            "Epoch:  141 Accuracy:  0.8533702 Autoencoder Loss:  48.69903564453125\n",
            "Epoch:  142 Accuracy:  0.85461324 Autoencoder Loss:  48.74225997924805\n",
            "Epoch:  143 Accuracy:  0.8545304 Autoencoder Loss:  49.96670913696289\n",
            "Epoch:  144 Accuracy:  0.85447514 Autoencoder Loss:  51.69782257080078\n",
            "Epoch:  145 Accuracy:  0.8542265 Autoencoder Loss:  48.633827209472656\n",
            "Epoch:  146 Accuracy:  0.85483426 Autoencoder Loss:  48.78223419189453\n",
            "Epoch:  147 Accuracy:  0.85469615 Autoencoder Loss:  49.323020935058594\n",
            "Epoch:  148 Accuracy:  0.8540055 Autoencoder Loss:  48.72659683227539\n",
            "Epoch:  149 Accuracy:  0.85450274 Autoencoder Loss:  47.33742141723633\n",
            "Epoch:  150 Accuracy:  0.8547514 Autoencoder Loss:  47.94983673095703\n"
          ]
        }
      ],
      "source": [
        "for epoch in range(1, epoch_num + 1):\n",
        "    encoder.train(mode=True)\n",
        "    decoder.train(mode=True)\n",
        "    classifier.train(mode=True)\n",
        "\n",
        "    correct = torch.zeros(1).squeeze().to(device)\n",
        "    total = torch.zeros(1).squeeze().to(device)\n",
        "\n",
        "    for i, (img, label) in enumerate(train_dataloader):\n",
        "        img = torch.unsqueeze(img, 1) # Add channel axis (1 channel)\n",
        "        img = img.to(device)\n",
        "        label = label.to(device)\n",
        "\n",
        "        feat = encoder(img)\n",
        "        pred_img = decoder(feat)\n",
        "        pred_label = classifier(feat)\n",
        "\n",
        "        classify_loss = crossentropy(pred_label, label)\n",
        "        autoencoder_loss = mse(pred_img, img)\n",
        "        loss = classify_loss + autoencoder_loss\n",
        "\n",
        "        prediction = torch.argmax(pred_label, 1)\n",
        "        correct += (prediction == label).sum().float()\n",
        "        total += len(label)\n",
        "\n",
        "        optimizer.zero_grad()\n",
        "        loss.backward()\n",
        "        optimizer.step()\n",
        "\n",
        "    scheduler.step(loss)\n",
        "    print('Epoch: ', epoch, 'Accuracy: ', (correct/total).cpu().detach().data.numpy(), 'Autoencoder Loss: ', autoencoder_loss.item())\n",
        "\n",
        "torch.save(encoder.state_dict(), '/content/drive/MyDrive/Colab Notebooks/vibrotactile-encoder/encoder.pt')\n",
        "torch.save(decoder.state_dict(), '/content/drive/MyDrive/Colab Notebooks/vibrotactile-encoder/decoder.pt')\n",
        "torch.save(classifier.state_dict(), '/content/drive/MyDrive/Colab Notebooks/vibrotactile-encoder/classifier.pt')"
      ]
    },
    {
      "cell_type": "code",
      "execution_count": 6,
      "metadata": {
        "colab": {
          "base_uri": "https://localhost:8080/"
        },
        "id": "7m7_9Kx3_1H6",
        "outputId": "666b6e29-66b7-4a20-e60c-d04be1f36834"
      },
      "outputs": [
        {
          "data": {
            "text/plain": [
              "_IncompatibleKeys(missing_keys=['encoder.conv1.weight', 'encoder.conv1.bias', 'encoder.conv2.weight', 'encoder.conv2.bias', 'encoder.bn1.weight', 'encoder.bn1.bias', 'encoder.bn1.running_mean', 'encoder.bn1.running_var', 'encoder.conv3.weight', 'encoder.conv3.bias', 'encoder.bn2.weight', 'encoder.bn2.bias', 'encoder.bn2.running_mean', 'encoder.bn2.running_var', 'encoder.fc1.weight', 'encoder.fc1.bias', 'decoder.fc1.weight', 'decoder.fc1.bias', 'decoder.deconv1.weight', 'decoder.deconv1.bias', 'decoder.bn1.weight', 'decoder.bn1.bias', 'decoder.bn1.running_mean', 'decoder.bn1.running_var', 'decoder.deconv2.weight', 'decoder.deconv2.bias', 'decoder.bn2.weight', 'decoder.bn2.bias', 'decoder.bn2.running_mean', 'decoder.bn2.running_var', 'decoder.deconv3.weight', 'decoder.deconv3.bias'], unexpected_keys=[])"
            ]
          },
          "execution_count": 6,
          "metadata": {},
          "output_type": "execute_result"
        }
      ],
      "source": [
        "autoencoder = AutoEncoder(encoded_space_dim = 16)\n",
        "\n",
        "encoder_dict = torch.load('/content/drive/MyDrive/Colab Notebooks/vibrotactile-encoder/encoder.pt', map_location=torch.device('cpu'))\n",
        "encoder_dict = {'encoder.' + k: v for k, v in encoder_dict.items()}\n",
        "\n",
        "decoder_dict = torch.load('/content/drive/MyDrive/Colab Notebooks/vibrotactile-encoder/decoder.pt', map_location=torch.device('cpu'))\n",
        "decoder_dict = {'decoder.' + k: v for k, v in decoder_dict.items()}\n",
        "\n",
        "classifier_dict = torch.load('/content/drive/MyDrive/Colab Notebooks/vibrotactile-encoder/classifier.pt', map_location=torch.device('cpu'))\n",
        "classifier_dict = {'classifier.' + k: v for k, v in classifier_dict.items()}\n",
        "\n",
        "autoencoder.load_state_dict(encoder_dict, strict=False)\n",
        "autoencoder.load_state_dict(decoder_dict, strict=False)\n",
        "autoencoder.load_state_dict(classifier_dict, strict=False)"
      ]
    },
    {
      "cell_type": "code",
      "execution_count": 7,
      "metadata": {
        "colab": {
          "base_uri": "https://localhost:8080/"
        },
        "id": "ZSmqEzGunWmo",
        "outputId": "80b95e23-84f8-4e33-e581-28d4e293183f"
      },
      "outputs": [
        {
          "name": "stdout",
          "output_type": "stream",
          "text": [
            "Accuracy:  0.8593646 Autoencoder Loss:  47.14260482788086\n"
          ]
        }
      ],
      "source": [
        "autoencoder.eval()\n",
        "autoencoder.to(device)\n",
        "\n",
        "correct = torch.zeros(1).squeeze().to(device)\n",
        "total = torch.zeros(1).squeeze().to(device)\n",
        "\n",
        "test_img = []\n",
        "test_preds = []\n",
        "test_trues = []\n",
        "vib_feat = []\n",
        "reconstruct_spec = []\n",
        "\n",
        "with torch.no_grad():\n",
        "    for i, (img, label) in enumerate(train_dataloader):\n",
        "        img = torch.unsqueeze(img, 1) # Add channel axis (1 channel)\n",
        "        img = img.to(device)\n",
        "        label = label.to(device)\n",
        "\n",
        "        feat, pred_img, pred_label = autoencoder(img)\n",
        "\n",
        "        classify_loss = crossentropy(pred_label, label)\n",
        "        autoencoder_loss = mse(pred_img, img)\n",
        "        loss = classify_loss + autoencoder_loss\n",
        "\n",
        "        pred_label = pred_label.argmax(dim=1)\n",
        "        test_preds.extend(pred_label.detach().cpu().numpy())\n",
        "        test_trues.extend(label.detach().cpu().numpy())\n",
        "        vib_feat.extend(feat.detach().cpu().numpy())\n",
        "        reconstruct_spec.extend(pred_img.detach().cpu().numpy())\n",
        "        test_img.extend(img.detach().cpu().numpy())\n",
        "\n",
        "        correct += (pred_label == label).sum().float()\n",
        "        total += len(label)\n",
        "\n",
        "print('Accuracy: ', (correct/total).cpu().detach().data.numpy(), 'Autoencoder Loss: ', autoencoder_loss.item())"
      ]
    },
    {
      "cell_type": "code",
      "execution_count": 8,
      "metadata": {
        "colab": {
          "base_uri": "https://localhost:8080/",
          "height": 679
        },
        "id": "pUxrjHXW05kK",
        "outputId": "252fddfb-1765-4989-a13e-020468d8ae4f"
      },
      "outputs": [
        {
          "data": {
            "text/plain": [
              "<sklearn.metrics._plot.confusion_matrix.ConfusionMatrixDisplay at 0x7ff5d33ea460>"
            ]
          },
          "execution_count": 8,
          "metadata": {},
          "output_type": "execute_result"
        },
        {
          "data": {
            "image/png": "[encoded data removed]",
            "text/plain": [
              "<Figure size 800x800 with 2 Axes>"
            ]
          },
          "metadata": {},
          "output_type": "display_data"
        }
      ],
      "source": [
        "conf_matrix = confusion_matrix(test_trues, test_preds)\n",
        "\n",
        "disp = ConfusionMatrixDisplay(confusion_matrix=conf_matrix, \n",
        "                              display_labels=['G1', 'G2', 'G3', 'G4', 'G6', 'G8', 'G9'])\n",
        "\n",
        "fig, ax = plt.subplots(figsize=(8,8))\n",
        "\n",
        "disp.plot(\n",
        "    include_values=True,\n",
        "    cmap=\"Greens\",\n",
        "    ax=ax,\n",
        "    xticks_rotation=\"horizontal\",\n",
        "    values_format=\"d\"\n",
        ")"
      ]
    },
    {
      "cell_type": "code",
      "execution_count": 9,
      "metadata": {
        "id": "HPeKUO6N89Hi"
      },
      "outputs": [],
      "source": [
        "feat_dict = {'original_vib': test_img,\n",
        "             'labels': test_trues,\n",
        "             'pred_labels': test_preds,\n",
        "             'vib_feat': vib_feat,\n",
        "             'decoded_vib': reconstruct_spec\n",
        "             }\n",
        "\n",
        "file = open('/content/drive/MyDrive/Colab Notebooks/vibrotactile-encoder/feat_dict.pickle', 'wb')\n",
        "pickle.dump(feat_dict, file)\n",
        "file.close()\n",
        "\n",
        "with open('/content/drive/MyDrive/Colab Notebooks/vibrotactile-encoder/feat_dict.pickle', 'rb') as file:\n",
        "    feat_dict = pickle.load(file)"
      ]
    },
    {
      "cell_type": "code",
      "execution_count": 10,
      "metadata": {
        "colab": {
          "base_uri": "https://localhost:8080/",
          "height": 159
        },
        "id": "aVz1zXuA_1H6",
        "outputId": "bc268b2c-7a64-4660-d88b-ec5d4813a126"
      },
      "outputs": [
        {
          "name": "stdout",
          "output_type": "stream",
          "text": [
            "True label:  0\n"
          ]
        },
        {
          "data": {
            "text/plain": [
              "<matplotlib.image.AxesImage at 0x7ff59993f580>"
            ]
          },
          "execution_count": 10,
          "metadata": {},
          "output_type": "execute_result"
        },
        {
          "data": {
            "image/png": "[encoded data removed]",
            "text/plain": [
              "<Figure size 640x480 with 1 Axes>"
            ]
          },
          "metadata": {},
          "output_type": "display_data"
        }
      ],
      "source": [
        "index = np.random.randint(0, len(train_dataloader.dataset))\n",
        "print('True label: ', test_trues[index])\n",
        "plt.imshow(test_img[index].squeeze())"
      ]
    },
    {
      "cell_type": "code",
      "execution_count": 11,
      "metadata": {
        "colab": {
          "base_uri": "https://localhost:8080/",
          "height": 159
        },
        "id": "7THTpFlM4WKP",
        "outputId": "75b6beda-bd9c-4eaa-ffb0-0589e3bf499c"
      },
      "outputs": [
        {
          "name": "stdout",
          "output_type": "stream",
          "text": [
            "Predicted label:  0\n"
          ]
        },
        {
          "data": {
            "text/plain": [
              "<matplotlib.image.AxesImage at 0x7ff580fd1a00>"
            ]
          },
          "execution_count": 11,
          "metadata": {},
          "output_type": "execute_result"
        },
        {
          "data": {
            "image/png": "[encoded data removed]",
            "text/plain": [
              "<Figure size 640x480 with 1 Axes>"
            ]
          },
          "metadata": {},
          "output_type": "display_data"
        }
      ],
      "source": [
        "print('Predicted label: ', test_preds[index])\n",
        "plt.imshow(reconstruct_spec[index].squeeze())"
      ]
    },
    {
      "cell_type": "code",
      "execution_count": 12,
      "metadata": {
        "colab": {
          "base_uri": "https://localhost:8080/",
          "height": 115
        },
        "id": "x9Lpq2O46kQQ",
        "outputId": "746f8722-d58e-4bc8-be30-1bd8ad20fd84"
      },
      "outputs": [
        {
          "data": {
            "text/plain": [
              "<matplotlib.image.AxesImage at 0x7ff5837d7d30>"
            ]
          },
          "execution_count": 12,
          "metadata": {},
          "output_type": "execute_result"
        },
        {
          "data": {
            "image/png": "[encoded data removed]",
            "text/plain": [
              "<Figure size 640x480 with 1 Axes>"
            ]
          },
          "metadata": {},
          "output_type": "display_data"
        }
      ],
      "source": [
        "plt.imshow(np.expand_dims(vib_feat[index], axis=0))"
      ]
    }
  ],
  "metadata": {
    "accelerator": "GPU",
    "colab": {
      "provenance": []
    },
    "gpuClass": "standard",
    "kernelspec": {
      "display_name": "Python 3",
      "language": "python",
      "name": "python3"
    },
    "language_info": {
      "codemirror_mode": {
        "name": "ipython",
        "version": 3
      },
      "file_extension": ".py",
      "mimetype": "text/x-python",
      "name": "python",
      "nbconvert_exporter": "python",
      "pygments_lexer": "ipython3",
      "version": "3.10.13"
    },
    "vscode": {
      "interpreter": {
        "hash": "bd385fe162c5ca0c84973b7dd5c518456272446b2b64e67c2a69f949ca7a1754"
      }
    }
  },
  "nbformat": 4,
  "nbformat_minor": 0
}
