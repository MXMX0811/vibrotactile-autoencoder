{
  "cells": [
    {
      "cell_type": "code",
      "execution_count": null,
      "metadata": {
        "colab": {
          "base_uri": "https://localhost:8080/"
        },
        "id": "vwi9Bt6c1U4M",
        "outputId": "6bc968b6-f2a7-4e64-8aed-d9ab38683829"
      },
      "outputs": [
        {
          "output_type": "stream",
          "name": "stdout",
          "text": [
            "Mounted at /content/drive\n"
          ]
        }
      ],
      "source": [
        "from google.colab import drive\n",
        "drive.mount('/content/drive')"
      ]
    },
    {
      "cell_type": "code",
      "execution_count": null,
      "metadata": {
        "id": "RWwZPCr7SzCP"
      },
      "outputs": [],
      "source": [
        "import matplotlib.pyplot as plt\n",
        "import numpy as np\n",
        "import torch\n",
        "import torchvision\n",
        "import pickle\n",
        "from sklearn.metrics import confusion_matrix, ConfusionMatrixDisplay\n",
        "from sklearn import preprocessing\n",
        "from torchvision import transforms\n",
        "from torch.utils.data import DataLoader\n",
        "from torch import nn\n",
        "import torch.nn.functional as F\n",
        "import torch.optim as optim"
      ]
    },
    {
      "cell_type": "code",
      "execution_count": null,
      "metadata": {
        "id": "2RBevBfESzCR"
      },
      "outputs": [],
      "source": [
        "'''\n",
        "Author: Mingxin Zhang m.zhang@hapis.u-tokyo.ac.jp\n",
        "Date: 2023-04-12 01:41:18\n",
        "LastEditors: Mingxin Zhang\n",
        "LastEditTime: 2023-04-18 17:30:10\n",
        "Copyright (c) 2023 by Mingxin Zhang, All Rights Reserved. \n",
        "'''\n",
        "\n",
        "from torch import nn\n",
        "import torch.nn.functional as F\n",
        "import torch\n",
        "\n",
        "\n",
        "class Encoder(nn.Module):\n",
        "    def __init__(self, encoded_space_dim):\n",
        "        super().__init__()\n",
        "        \n",
        "        ### Convolutional section\n",
        "        self.conv1 = nn.Conv2d(1, 8, 3, padding=1)\n",
        "        self.conv2 = nn.Conv2d(8, 16, 5, padding=2)\n",
        "        self.bn1 = nn.BatchNorm2d(16)\n",
        "        self.conv3 = nn.Conv2d(16, 32, 5, padding=0)\n",
        "        self.bn2 = nn.BatchNorm2d(32)\n",
        "\n",
        "        self.pool = nn.MaxPool2d(2)\n",
        "\n",
        "        self.flatten = nn.Flatten(start_dim=1)\n",
        "\n",
        "        self.fc1 = nn.Linear(32 * 1 * 23, encoded_space_dim)\n",
        "        self.fc2 = nn.Linear(32 * 1 * 23, encoded_space_dim)\n",
        "\n",
        "    def reparameterize(self, mu, logvar):\n",
        "        std = torch.exp(logvar / 2)\n",
        "        epsilon = torch.randn_like(mu)\n",
        "        z = mu + std * epsilon\n",
        "        return z\n",
        "        \n",
        "    def forward(self, x):\n",
        "        x = F.relu(self.conv1(x))\n",
        "        x = self.pool(self.conv2(x))\n",
        "        x = F.relu(self.bn1(x))\n",
        "        x = self.pool(self.conv3(x))\n",
        "        x = F.relu(self.bn2(x))\n",
        "        x = self.flatten(x)\n",
        "\n",
        "        mu = self.fc1(x)\n",
        "        logvar = self.fc2(x)\n",
        "        z = self.reparameterize(mu, logvar)\n",
        "        return z\n",
        "\n",
        "\n",
        "class Decoder(nn.Module):\n",
        "    def __init__(self, encoded_space_dim):\n",
        "        super().__init__()\n",
        "        self.fc1 = nn.Linear(encoded_space_dim, 32 * 1 * 23)\n",
        "        self.unflatten = nn.Unflatten(dim=1, unflattened_size=(32, 1, 23))\n",
        "\n",
        "        self.deconv1 = nn.ConvTranspose2d(32, 16, 5, stride=2, output_padding=1)\n",
        "        self.bn1 = nn.BatchNorm2d(16)\n",
        "        self.deconv2 = nn.ConvTranspose2d(16, 8, 5, stride=2, padding=2, output_padding=1)\n",
        "        self.bn2 = nn.BatchNorm2d(8)\n",
        "        self.deconv3 = nn.ConvTranspose2d(8, 1, 3, padding=1)\n",
        "        \n",
        "    def forward(self, x):\n",
        "        x = F.relu(self.fc1(x))\n",
        "        x = self.unflatten(x)\n",
        "        x = F.relu(self.bn1(self.deconv1(x)))\n",
        "        x = F.relu(self.bn2(self.deconv2(x)))\n",
        "        x = self.deconv3(x)\n",
        "        return x\n",
        "\n",
        "\n",
        "class Classifier(nn.Module):\n",
        "    def __init__(self, encoded_space_dim):\n",
        "        super().__init__()\n",
        "        self.fc1 = nn.Linear(encoded_space_dim, 16)\n",
        "        self.fc2 = nn.Linear(16, 7)\n",
        "        \n",
        "    def forward(self, x):\n",
        "        x = F.relu(self.fc1(x))\n",
        "        x = F.softmax(self.fc2(x), dim=1) #dim0=batch, dim1=element\n",
        "        return x\n",
        "    \n",
        "\n",
        "class AutoEncoder(nn.Module):\n",
        "    def __init__(self, encoded_space_dim):\n",
        "        super().__init__()\n",
        "        self.encoder = Encoder(encoded_space_dim)\n",
        "        self.decoder = Decoder(encoded_space_dim)\n",
        "        self.classifier = Classifier(encoded_space_dim)\n",
        "        \n",
        "    def forward(self, x):\n",
        "        feat = self.encoder(x)\n",
        "        pred_img = self.decoder(feat)\n",
        "        pred_label = self.classifier(feat)\n",
        "        return feat, pred_img, pred_label\n",
        "    "
      ]
    },
    {
      "cell_type": "code",
      "execution_count": null,
      "metadata": {
        "colab": {
          "base_uri": "https://localhost:8080/"
        },
        "id": "QCDDdAwD1DHU",
        "outputId": "b3d123cd-0d4e-452e-b717-1ae862df2125"
      },
      "outputs": [
        {
          "output_type": "stream",
          "name": "stdout",
          "text": [
            "Selected device: cuda\n"
          ]
        }
      ],
      "source": [
        "device = torch.device(\"cuda\") if torch.cuda.is_available() else torch.device(\"cpu\")\n",
        "print(f'Selected device: {device}')\n",
        "\n",
        "with open('/content/drive/MyDrive/Colab Notebooks/vibrotactile-encoder/trainset.pickle', 'rb') as file:\n",
        "# with open('trainset.pickle', 'rb') as file:\n",
        "    trainset = pickle.load(file)\n",
        "\n",
        "spectrogram = torch.from_numpy(trainset['spectrogram'].astype(np.float32))\n",
        "texture = trainset['texture']\n",
        "le = preprocessing.LabelEncoder()\n",
        "labels = torch.as_tensor(le.fit_transform(texture))\n",
        "\n",
        "train_dataset = torch.utils.data.TensorDataset(spectrogram, labels) \n",
        "train_dataloader = torch.utils.data.DataLoader( \n",
        "    dataset = train_dataset, \n",
        "    batch_size = 64,\n",
        "    shuffle = True, \n",
        "    num_workers = 2, \n",
        "    ) \n",
        "\n",
        "mse = nn.MSELoss()\n",
        "crossentropy = nn.CrossEntropyLoss()\n",
        "\n",
        "encoder = Encoder(encoded_space_dim = 16)\n",
        "decoder = Decoder(encoded_space_dim = 16)\n",
        "classifier = Classifier(encoded_space_dim = 16)\n",
        "params_to_optimize = [\n",
        "    {'params': encoder.parameters()},\n",
        "    {'params': decoder.parameters()},\n",
        "    {'params': classifier.parameters()}\n",
        "]\n",
        "\n",
        "optimizer = optim.Adam(params_to_optimize, lr=5e-4, weight_decay=1e-05)\n",
        "scheduler = optim.lr_scheduler.ReduceLROnPlateau(optimizer, 'min', factor=0.8, patience=5)\n",
        "\n",
        "encoder.to(device)\n",
        "decoder.to(device)\n",
        "classifier.to(device)\n",
        "\n",
        "epoch_num = 150"
      ]
    },
    {
      "cell_type": "code",
      "execution_count": null,
      "metadata": {
        "colab": {
          "base_uri": "https://localhost:8080/"
        },
        "id": "1s_WeV7TSzCR",
        "outputId": "561eba0d-d25f-413e-d3ab-22344aba2756"
      },
      "outputs": [
        {
          "output_type": "stream",
          "name": "stdout",
          "text": [
            "Epoch:  1 Accuracy:  0.27654696 Autoencoder Loss:  127.44329833984375\n",
            "Epoch:  2 Accuracy:  0.3 Autoencoder Loss:  108.63347625732422\n",
            "Epoch:  3 Accuracy:  0.30005524 Autoencoder Loss:  96.58174896240234\n",
            "Epoch:  4 Accuracy:  0.31099448 Autoencoder Loss:  83.10414123535156\n",
            "Epoch:  5 Accuracy:  0.33690608 Autoencoder Loss:  64.69656372070312\n",
            "Epoch:  6 Accuracy:  0.39831492 Autoencoder Loss:  58.799468994140625\n",
            "Epoch:  7 Accuracy:  0.4630663 Autoencoder Loss:  59.86627197265625\n",
            "Epoch:  8 Accuracy:  0.5496409 Autoencoder Loss:  56.840457916259766\n",
            "Epoch:  9 Accuracy:  0.56312156 Autoencoder Loss:  54.53456115722656\n",
            "Epoch:  10 Accuracy:  0.5707459 Autoencoder Loss:  53.7433967590332\n",
            "Epoch:  11 Accuracy:  0.57900554 Autoencoder Loss:  55.393394470214844\n",
            "Epoch:  12 Accuracy:  0.5868508 Autoencoder Loss:  53.72640609741211\n",
            "Epoch:  13 Accuracy:  0.5926243 Autoencoder Loss:  50.88788604736328\n",
            "Epoch:  14 Accuracy:  0.5974033 Autoencoder Loss:  52.411468505859375\n",
            "Epoch:  15 Accuracy:  0.6000553 Autoencoder Loss:  53.56794738769531\n",
            "Epoch:  16 Accuracy:  0.60450274 Autoencoder Loss:  50.08095169067383\n",
            "Epoch:  17 Accuracy:  0.6104144 Autoencoder Loss:  54.315269470214844\n",
            "Epoch:  18 Accuracy:  0.6169613 Autoencoder Loss:  53.94558334350586\n",
            "Epoch:  19 Accuracy:  0.62428176 Autoencoder Loss:  52.0628547668457\n",
            "Epoch:  20 Accuracy:  0.63439226 Autoencoder Loss:  50.877010345458984\n",
            "Epoch:  21 Accuracy:  0.74276245 Autoencoder Loss:  53.077552795410156\n",
            "Epoch:  22 Accuracy:  0.75848067 Autoencoder Loss:  54.41282272338867\n",
            "Epoch:  23 Accuracy:  0.76643646 Autoencoder Loss:  50.34130096435547\n",
            "Epoch:  24 Accuracy:  0.7681768 Autoencoder Loss:  48.949337005615234\n",
            "Epoch:  25 Accuracy:  0.773674 Autoencoder Loss:  51.702125549316406\n",
            "Epoch:  26 Accuracy:  0.77640885 Autoencoder Loss:  52.63138961791992\n",
            "Epoch:  27 Accuracy:  0.7783149 Autoencoder Loss:  50.75654983520508\n",
            "Epoch:  28 Accuracy:  0.7836464 Autoencoder Loss:  52.10573196411133\n",
            "Epoch:  29 Accuracy:  0.7878729 Autoencoder Loss:  50.666812896728516\n",
            "Epoch:  30 Accuracy:  0.79154694 Autoencoder Loss:  52.223045349121094\n",
            "Epoch:  31 Accuracy:  0.7969337 Autoencoder Loss:  51.02621841430664\n",
            "Epoch:  32 Accuracy:  0.79980665 Autoencoder Loss:  51.163883209228516\n",
            "Epoch:  33 Accuracy:  0.8033425 Autoencoder Loss:  49.86942672729492\n",
            "Epoch:  34 Accuracy:  0.804337 Autoencoder Loss:  52.57569885253906\n",
            "Epoch:  35 Accuracy:  0.80665743 Autoencoder Loss:  51.790489196777344\n",
            "Epoch:  36 Accuracy:  0.80765194 Autoencoder Loss:  49.35479736328125\n",
            "Epoch:  37 Accuracy:  0.81027627 Autoencoder Loss:  49.50892639160156\n",
            "Epoch:  38 Accuracy:  0.8105525 Autoencoder Loss:  50.63481140136719\n",
            "Epoch:  39 Accuracy:  0.8119337 Autoencoder Loss:  51.42499542236328\n",
            "Epoch:  40 Accuracy:  0.81287295 Autoencoder Loss:  52.18904113769531\n",
            "Epoch:  41 Accuracy:  0.81367403 Autoencoder Loss:  48.78927993774414\n",
            "Epoch:  42 Accuracy:  0.8143094 Autoencoder Loss:  51.58260726928711\n",
            "Epoch:  43 Accuracy:  0.8153867 Autoencoder Loss:  49.971588134765625\n",
            "Epoch:  44 Accuracy:  0.81643647 Autoencoder Loss:  50.65607833862305\n",
            "Epoch:  45 Accuracy:  0.81585634 Autoencoder Loss:  51.12147903442383\n",
            "Epoch:  46 Accuracy:  0.8165746 Autoencoder Loss:  50.08292770385742\n",
            "Epoch:  47 Accuracy:  0.8180663 Autoencoder Loss:  53.18608093261719\n",
            "Epoch:  48 Accuracy:  0.8198619 Autoencoder Loss:  50.44708251953125\n",
            "Epoch:  49 Accuracy:  0.8196133 Autoencoder Loss:  52.20697784423828\n",
            "Epoch:  50 Accuracy:  0.8205249 Autoencoder Loss:  51.538352966308594\n",
            "Epoch:  51 Accuracy:  0.82129836 Autoencoder Loss:  51.56889343261719\n",
            "Epoch:  52 Accuracy:  0.82008284 Autoencoder Loss:  52.065792083740234\n",
            "Epoch:  53 Accuracy:  0.82143646 Autoencoder Loss:  51.45955276489258\n",
            "Epoch:  54 Accuracy:  0.82220995 Autoencoder Loss:  50.221656799316406\n",
            "Epoch:  55 Accuracy:  0.82464087 Autoencoder Loss:  50.32417678833008\n",
            "Epoch:  56 Accuracy:  0.8243094 Autoencoder Loss:  49.94892501831055\n",
            "Epoch:  57 Accuracy:  0.8243094 Autoencoder Loss:  50.89906692504883\n",
            "Epoch:  58 Accuracy:  0.8256354 Autoencoder Loss:  50.972599029541016\n",
            "Epoch:  59 Accuracy:  0.8254972 Autoencoder Loss:  50.080177307128906\n",
            "Epoch:  60 Accuracy:  0.8262431 Autoencoder Loss:  50.40241622924805\n",
            "Epoch:  61 Accuracy:  0.82657456 Autoencoder Loss:  48.93736267089844\n",
            "Epoch:  62 Accuracy:  0.82696134 Autoencoder Loss:  51.57909393310547\n",
            "Epoch:  63 Accuracy:  0.8272652 Autoencoder Loss:  49.237422943115234\n",
            "Epoch:  64 Accuracy:  0.8276243 Autoencoder Loss:  48.7479248046875\n",
            "Epoch:  65 Accuracy:  0.8276519 Autoencoder Loss:  52.93349075317383\n",
            "Epoch:  66 Accuracy:  0.8279005 Autoencoder Loss:  50.62741470336914\n",
            "Epoch:  67 Accuracy:  0.82837015 Autoencoder Loss:  49.956729888916016\n",
            "Epoch:  68 Accuracy:  0.82900554 Autoencoder Loss:  51.283878326416016\n",
            "Epoch:  69 Accuracy:  0.8291989 Autoencoder Loss:  49.748600006103516\n",
            "Epoch:  70 Accuracy:  0.82950276 Autoencoder Loss:  52.49604797363281\n",
            "Epoch:  71 Accuracy:  0.8298066 Autoencoder Loss:  49.72860336303711\n",
            "Epoch:  72 Accuracy:  0.8296961 Autoencoder Loss:  50.85008239746094\n",
            "Epoch:  73 Accuracy:  0.83002764 Autoencoder Loss:  51.51769256591797\n",
            "Epoch:  74 Accuracy:  0.8307182 Autoencoder Loss:  49.5262336730957\n",
            "Epoch:  75 Accuracy:  0.83093923 Autoencoder Loss:  50.1514892578125\n",
            "Epoch:  76 Accuracy:  0.83132595 Autoencoder Loss:  51.31887435913086\n",
            "Epoch:  77 Accuracy:  0.83143646 Autoencoder Loss:  51.211299896240234\n",
            "Epoch:  78 Accuracy:  0.83116025 Autoencoder Loss:  47.82010269165039\n",
            "Epoch:  79 Accuracy:  0.8318784 Autoencoder Loss:  51.36737823486328\n",
            "Epoch:  80 Accuracy:  0.83198893 Autoencoder Loss:  51.120811462402344\n",
            "Epoch:  81 Accuracy:  0.83209944 Autoencoder Loss:  50.40549087524414\n",
            "Epoch:  82 Accuracy:  0.8323757 Autoencoder Loss:  52.54366683959961\n",
            "Epoch:  83 Accuracy:  0.83196133 Autoencoder Loss:  50.28731155395508\n",
            "Epoch:  84 Accuracy:  0.83267957 Autoencoder Loss:  53.2582893371582\n",
            "Epoch:  85 Accuracy:  0.83325964 Autoencoder Loss:  49.399749755859375\n",
            "Epoch:  86 Accuracy:  0.8332873 Autoencoder Loss:  49.164249420166016\n",
            "Epoch:  87 Accuracy:  0.8327901 Autoencoder Loss:  51.671852111816406\n",
            "Epoch:  88 Accuracy:  0.83334255 Autoencoder Loss:  49.512393951416016\n",
            "Epoch:  89 Accuracy:  0.8329282 Autoencoder Loss:  51.519386291503906\n",
            "Epoch:  90 Accuracy:  0.83325964 Autoencoder Loss:  49.401973724365234\n",
            "Epoch:  91 Accuracy:  0.8341713 Autoencoder Loss:  49.76706314086914\n",
            "Epoch:  92 Accuracy:  0.8338122 Autoencoder Loss:  50.04001998901367\n",
            "Epoch:  93 Accuracy:  0.8349447 Autoencoder Loss:  48.01792526245117\n",
            "Epoch:  94 Accuracy:  0.83422655 Autoencoder Loss:  49.785125732421875\n",
            "Epoch:  95 Accuracy:  0.8339226 Autoencoder Loss:  50.48533248901367\n",
            "Epoch:  96 Accuracy:  0.83488953 Autoencoder Loss:  50.357696533203125\n",
            "Epoch:  97 Accuracy:  0.8344199 Autoencoder Loss:  51.054901123046875\n",
            "Epoch:  98 Accuracy:  0.8351105 Autoencoder Loss:  51.92552185058594\n",
            "Epoch:  99 Accuracy:  0.8348066 Autoencoder Loss:  49.42149353027344\n",
            "Epoch:  100 Accuracy:  0.8353591 Autoencoder Loss:  51.210472106933594\n",
            "Epoch:  101 Accuracy:  0.83563536 Autoencoder Loss:  49.23756790161133\n",
            "Epoch:  102 Accuracy:  0.8353315 Autoencoder Loss:  48.27998733520508\n",
            "Epoch:  103 Accuracy:  0.8356906 Autoencoder Loss:  49.64899826049805\n",
            "Epoch:  104 Accuracy:  0.8359392 Autoencoder Loss:  50.17772674560547\n",
            "Epoch:  105 Accuracy:  0.8354696 Autoencoder Loss:  51.7126350402832\n",
            "Epoch:  106 Accuracy:  0.8356077 Autoencoder Loss:  50.869815826416016\n",
            "Epoch:  107 Accuracy:  0.83577347 Autoencoder Loss:  48.095542907714844\n",
            "Epoch:  108 Accuracy:  0.83604974 Autoencoder Loss:  48.888519287109375\n",
            "Epoch:  109 Accuracy:  0.83604974 Autoencoder Loss:  47.8634147644043\n",
            "Epoch:  110 Accuracy:  0.8359668 Autoencoder Loss:  51.1966438293457\n",
            "Epoch:  111 Accuracy:  0.836105 Autoencoder Loss:  50.73765182495117\n",
            "Epoch:  112 Accuracy:  0.83618784 Autoencoder Loss:  49.43181228637695\n",
            "Epoch:  113 Accuracy:  0.8365746 Autoencoder Loss:  50.02714538574219\n",
            "Epoch:  114 Accuracy:  0.836105 Autoencoder Loss:  49.64945602416992\n",
            "Epoch:  115 Accuracy:  0.8363812 Autoencoder Loss:  47.31422805786133\n",
            "Epoch:  116 Accuracy:  0.8371271 Autoencoder Loss:  51.74419403076172\n",
            "Epoch:  117 Accuracy:  0.8365746 Autoencoder Loss:  50.92594909667969\n",
            "Epoch:  118 Accuracy:  0.83654696 Autoencoder Loss:  49.960872650146484\n",
            "Epoch:  119 Accuracy:  0.8367403 Autoencoder Loss:  51.968353271484375\n",
            "Epoch:  120 Accuracy:  0.8368508 Autoencoder Loss:  49.323204040527344\n",
            "Epoch:  121 Accuracy:  0.8365746 Autoencoder Loss:  47.3925895690918\n",
            "Epoch:  122 Accuracy:  0.83709943 Autoencoder Loss:  51.48896789550781\n",
            "Epoch:  123 Accuracy:  0.83707184 Autoencoder Loss:  49.8768310546875\n",
            "Epoch:  124 Accuracy:  0.8367127 Autoencoder Loss:  49.69538497924805\n",
            "Epoch:  125 Accuracy:  0.8368508 Autoencoder Loss:  50.350921630859375\n",
            "Epoch:  126 Accuracy:  0.83720994 Autoencoder Loss:  52.350563049316406\n",
            "Epoch:  127 Accuracy:  0.8368785 Autoencoder Loss:  50.5364990234375\n",
            "Epoch:  128 Accuracy:  0.8369889 Autoencoder Loss:  49.856510162353516\n",
            "Epoch:  129 Accuracy:  0.83720994 Autoencoder Loss:  50.95757293701172\n",
            "Epoch:  130 Accuracy:  0.8371547 Autoencoder Loss:  50.56796646118164\n",
            "Epoch:  131 Accuracy:  0.8369889 Autoencoder Loss:  49.71467590332031\n",
            "Epoch:  132 Accuracy:  0.8372928 Autoencoder Loss:  49.3446159362793\n",
            "Epoch:  133 Accuracy:  0.83745855 Autoencoder Loss:  49.38473892211914\n",
            "Epoch:  134 Accuracy:  0.83754146 Autoencoder Loss:  52.00400924682617\n",
            "Epoch:  135 Accuracy:  0.8376519 Autoencoder Loss:  49.578643798828125\n",
            "Epoch:  136 Accuracy:  0.83767956 Autoencoder Loss:  48.43294906616211\n",
            "Epoch:  137 Accuracy:  0.8377348 Autoencoder Loss:  49.087947845458984\n",
            "Epoch:  138 Accuracy:  0.8378453 Autoencoder Loss:  48.62165451049805\n",
            "Epoch:  139 Accuracy:  0.8377624 Autoencoder Loss:  51.89751052856445\n",
            "Epoch:  140 Accuracy:  0.83756906 Autoencoder Loss:  51.307701110839844\n",
            "Epoch:  141 Accuracy:  0.8379006 Autoencoder Loss:  51.50016784667969\n",
            "Epoch:  142 Accuracy:  0.8378453 Autoencoder Loss:  48.08702087402344\n",
            "Epoch:  143 Accuracy:  0.8378453 Autoencoder Loss:  49.27765655517578\n",
            "Epoch:  144 Accuracy:  0.8377901 Autoencoder Loss:  50.53193664550781\n",
            "Epoch:  145 Accuracy:  0.8379558 Autoencoder Loss:  49.553279876708984\n",
            "Epoch:  146 Accuracy:  0.8380387 Autoencoder Loss:  48.770076751708984\n",
            "Epoch:  147 Accuracy:  0.8379558 Autoencoder Loss:  51.52317810058594\n",
            "Epoch:  148 Accuracy:  0.8379282 Autoencoder Loss:  52.545135498046875\n",
            "Epoch:  149 Accuracy:  0.8377624 Autoencoder Loss:  50.34943771362305\n",
            "Epoch:  150 Accuracy:  0.83812153 Autoencoder Loss:  48.6602668762207\n"
          ]
        }
      ],
      "source": [
        "for epoch in range(1, epoch_num + 1):\n",
        "    encoder.train(mode=True)\n",
        "    decoder.train(mode=True)\n",
        "    classifier.train(mode=True)\n",
        "\n",
        "    correct = torch.zeros(1).squeeze().to(device)\n",
        "    total = torch.zeros(1).squeeze().to(device)\n",
        "\n",
        "    for i, (img, label) in enumerate(train_dataloader):\n",
        "        img = torch.unsqueeze(img, 1) # Add channel axis (1 channel)\n",
        "        img = img.to(device)\n",
        "        label = label.to(device)\n",
        "\n",
        "        feat = encoder(img)\n",
        "        pred_img = decoder(feat)\n",
        "        pred_label = classifier(feat)\n",
        "\n",
        "        classify_loss = crossentropy(pred_label, label)\n",
        "        autoencoder_loss = mse(pred_img, img)\n",
        "        loss = classify_loss + autoencoder_loss\n",
        "\n",
        "        prediction = torch.argmax(pred_label, 1)\n",
        "        correct += (prediction == label).sum().float()\n",
        "        total += len(label)\n",
        "\n",
        "        optimizer.zero_grad()\n",
        "        loss.backward()\n",
        "        optimizer.step()\n",
        "\n",
        "    scheduler.step(loss)\n",
        "    print('Epoch: ', epoch, 'Accuracy: ', (correct/total).cpu().detach().data.numpy(), 'Autoencoder Loss: ', autoencoder_loss.item())\n",
        "\n",
        "torch.save(encoder.state_dict(), '/content/drive/MyDrive/Colab Notebooks/vibrotactile-encoder/encoder.pt')\n",
        "torch.save(decoder.state_dict(), '/content/drive/MyDrive/Colab Notebooks/vibrotactile-encoder/decoder.pt')\n",
        "torch.save(classifier.state_dict(), '/content/drive/MyDrive/Colab Notebooks/vibrotactile-encoder/classifier.pt')"
      ]
    },
    {
      "cell_type": "code",
      "execution_count": null,
      "metadata": {
        "id": "7m7_9Kx3_1H6",
        "colab": {
          "base_uri": "https://localhost:8080/"
        },
        "outputId": "a36a435d-d627-4c58-df00-0161c17a92b1"
      },
      "outputs": [
        {
          "output_type": "execute_result",
          "data": {
            "text/plain": [
              "_IncompatibleKeys(missing_keys=['encoder.conv1.weight', 'encoder.conv1.bias', 'encoder.conv2.weight', 'encoder.conv2.bias', 'encoder.bn1.weight', 'encoder.bn1.bias', 'encoder.bn1.running_mean', 'encoder.bn1.running_var', 'encoder.conv3.weight', 'encoder.conv3.bias', 'encoder.bn2.weight', 'encoder.bn2.bias', 'encoder.bn2.running_mean', 'encoder.bn2.running_var', 'encoder.fc1.weight', 'encoder.fc1.bias', 'encoder.fc2.weight', 'encoder.fc2.bias', 'decoder.fc1.weight', 'decoder.fc1.bias', 'decoder.deconv1.weight', 'decoder.deconv1.bias', 'decoder.bn1.weight', 'decoder.bn1.bias', 'decoder.bn1.running_mean', 'decoder.bn1.running_var', 'decoder.deconv2.weight', 'decoder.deconv2.bias', 'decoder.bn2.weight', 'decoder.bn2.bias', 'decoder.bn2.running_mean', 'decoder.bn2.running_var', 'decoder.deconv3.weight', 'decoder.deconv3.bias'], unexpected_keys=[])"
            ]
          },
          "metadata": {},
          "execution_count": 6
        }
      ],
      "source": [
        "autoencoder = AutoEncoder(encoded_space_dim = 16)\n",
        "\n",
        "encoder_dict = torch.load('/content/drive/MyDrive/Colab Notebooks/vibrotactile-encoder/encoder.pt', map_location=torch.device('cpu'))\n",
        "encoder_dict = {'encoder.' + k: v for k, v in encoder_dict.items()}\n",
        "\n",
        "decoder_dict = torch.load('/content/drive/MyDrive/Colab Notebooks/vibrotactile-encoder/decoder.pt', map_location=torch.device('cpu'))\n",
        "decoder_dict = {'decoder.' + k: v for k, v in decoder_dict.items()}\n",
        "\n",
        "classifier_dict = torch.load('/content/drive/MyDrive/Colab Notebooks/vibrotactile-encoder/classifier.pt', map_location=torch.device('cpu'))\n",
        "classifier_dict = {'classifier.' + k: v for k, v in classifier_dict.items()}\n",
        "\n",
        "autoencoder.load_state_dict(encoder_dict, strict=False)\n",
        "autoencoder.load_state_dict(decoder_dict, strict=False)\n",
        "autoencoder.load_state_dict(classifier_dict, strict=False)"
      ]
    },
    {
      "cell_type": "code",
      "source": [
        "autoencoder.eval()\n",
        "autoencoder.to(device)\n",
        "\n",
        "correct = torch.zeros(1).squeeze().to(device)\n",
        "total = torch.zeros(1).squeeze().to(device)\n",
        "\n",
        "test_img = []\n",
        "test_preds = []\n",
        "test_trues = []\n",
        "vib_feat = []\n",
        "reconstruct_spec = []\n",
        "\n",
        "with torch.no_grad():\n",
        "    for i, (img, label) in enumerate(train_dataloader):\n",
        "        img = torch.unsqueeze(img, 1) # Add channel axis (1 channel)\n",
        "        img = img.to(device)\n",
        "        label = label.to(device)\n",
        "\n",
        "        feat, pred_img, pred_label = autoencoder(img)\n",
        "\n",
        "        classify_loss = crossentropy(pred_label, label)\n",
        "        autoencoder_loss = mse(pred_img, img)\n",
        "        loss = classify_loss + autoencoder_loss\n",
        "\n",
        "        pred_label = pred_label.argmax(dim=1)\n",
        "        test_preds.extend(pred_label.detach().cpu().numpy())\n",
        "        test_trues.extend(label.detach().cpu().numpy())\n",
        "        vib_feat.extend(feat.detach().cpu().numpy())\n",
        "        reconstruct_spec.extend(pred_img.detach().cpu().numpy())\n",
        "        test_img.extend(img.detach().cpu().numpy())\n",
        "\n",
        "        correct += (pred_label == label).sum().float()\n",
        "        total += len(label)\n",
        "\n",
        "print('Accuracy: ', (correct/total).cpu().detach().data.numpy(), 'Autoencoder Loss: ', autoencoder_loss.item())"
      ],
      "metadata": {
        "id": "ZSmqEzGunWmo",
        "colab": {
          "base_uri": "https://localhost:8080/"
        },
        "outputId": "f1c3e631-9df2-4795-d2cb-28b9d9cdea38"
      },
      "execution_count": null,
      "outputs": [
        {
          "output_type": "stream",
          "name": "stdout",
          "text": [
            "Accuracy:  0.83812153 Autoencoder Loss:  50.545833587646484\n"
          ]
        }
      ]
    },
    {
      "cell_type": "code",
      "source": [
        "conf_matrix = confusion_matrix(test_trues, test_preds)\n",
        "\n",
        "disp = ConfusionMatrixDisplay(confusion_matrix=conf_matrix, \n",
        "                              display_labels=['G1', 'G2', 'G3', 'G4', 'G6', 'G8', 'G9'])\n",
        "\n",
        "fig, ax = plt.subplots(figsize=(8,8))\n",
        "\n",
        "disp.plot(\n",
        "    include_values=True,\n",
        "    cmap=\"Greens\",\n",
        "    ax=ax,\n",
        "    xticks_rotation=\"horizontal\",\n",
        "    values_format=\"d\"\n",
        ")"
      ],
      "metadata": {
        "id": "pUxrjHXW05kK",
        "colab": {
          "base_uri": "https://localhost:8080/",
          "height": 679
        },
        "outputId": "f0c9709c-1b23-4da1-894b-0666396af18a"
      },
      "execution_count": null,
      "outputs": [
        {
          "output_type": "execute_result",
          "data": {
            "text/plain": [
              "<sklearn.metrics._plot.confusion_matrix.ConfusionMatrixDisplay at 0x7f68e35ad1f0>"
            ]
          },
          "metadata": {},
          "execution_count": 13
        },
        {
          "output_type": "display_data",
          "data": {
            "text/plain": [
              "<Figure size 800x800 with 2 Axes>"
            ],
            "image/png": "[encoded data removed]"
          },
          "metadata": {}
        }
      ]
    },
    {
      "cell_type": "code",
      "source": [
        "feat_dict = {'original_vib': test_img,\n",
        "             'labels': test_trues,\n",
        "             'pred_labels': test_preds,\n",
        "             'vib_feat': vib_feat,\n",
        "             'decoded_vib': reconstruct_spec\n",
        "             }\n",
        "\n",
        "file = open('/content/drive/MyDrive/Colab Notebooks/vibrotactile-encoder/feat_dict.pickle', 'wb')\n",
        "pickle.dump(feat_dict, file)\n",
        "file.close()\n",
        "\n",
        "with open('/content/drive/MyDrive/Colab Notebooks/vibrotactile-encoder/feat_dict.pickle', 'rb') as file:\n",
        "    feat_dict = pickle.load(file)"
      ],
      "metadata": {
        "id": "HPeKUO6N89Hi"
      },
      "execution_count": null,
      "outputs": []
    },
    {
      "cell_type": "code",
      "execution_count": null,
      "metadata": {
        "id": "aVz1zXuA_1H6",
        "colab": {
          "base_uri": "https://localhost:8080/",
          "height": 159
        },
        "outputId": "daf858d9-fb70-4aeb-cadc-18b937f68129"
      },
      "outputs": [
        {
          "output_type": "stream",
          "name": "stdout",
          "text": [
            "True label:  1\n"
          ]
        },
        {
          "output_type": "execute_result",
          "data": {
            "text/plain": [
              "<matplotlib.image.AxesImage at 0x7f6d81005c70>"
            ]
          },
          "metadata": {},
          "execution_count": 13
        },
        {
          "output_type": "display_data",
          "data": {
            "text/plain": [
              "<Figure size 640x480 with 1 Axes>"
            ],
            "image/png": "[encoded data removed]"
          },
          "metadata": {}
        }
      ],
      "source": [
        "index = np.random.randint(0, len(train_dataloader.dataset))\n",
        "print('True label: ', test_trues[index])\n",
        "plt.imshow(test_img[index].squeeze())"
      ]
    },
    {
      "cell_type": "code",
      "source": [
        "print('Predicted label: ', test_preds[index])\n",
        "plt.imshow(reconstruct_spec[index].squeeze())"
      ],
      "metadata": {
        "id": "7THTpFlM4WKP",
        "colab": {
          "base_uri": "https://localhost:8080/",
          "height": 159
        },
        "outputId": "2ae5339a-e289-4efe-e200-b1fb39e51b17"
      },
      "execution_count": null,
      "outputs": [
        {
          "output_type": "stream",
          "name": "stdout",
          "text": [
            "Predicted label:  1\n"
          ]
        },
        {
          "output_type": "execute_result",
          "data": {
            "text/plain": [
              "<matplotlib.image.AxesImage at 0x7f6d80fd3ca0>"
            ]
          },
          "metadata": {},
          "execution_count": 14
        },
        {
          "output_type": "display_data",
          "data": {
            "text/plain": [
              "<Figure size 640x480 with 1 Axes>"
            ],
            "image/png": "[encoded data removed]"
          },
          "metadata": {}
        }
      ]
    },
    {
      "cell_type": "code",
      "source": [
        "plt.imshow(np.expand_dims(vib_feat[index], axis=0))"
      ],
      "metadata": {
        "id": "x9Lpq2O46kQQ",
        "colab": {
          "base_uri": "https://localhost:8080/",
          "height": 146
        },
        "outputId": "d918210c-58ba-411c-aa65-921ee2b86ad4"
      },
      "execution_count": null,
      "outputs": [
        {
          "output_type": "execute_result",
          "data": {
            "text/plain": [
              "<matplotlib.image.AxesImage at 0x7f5883529160>"
            ]
          },
          "metadata": {},
          "execution_count": 30
        },
        {
          "output_type": "display_data",
          "data": {
            "text/plain": [
              "<Figure size 640x480 with 1 Axes>"
            ],
            "image/png": "[encoded data removed]"
          },
          "metadata": {}
        }
      ]
    }
  ],
  "metadata": {
    "colab": {
      "provenance": []
    },
    "gpuClass": "standard",
    "kernelspec": {
      "display_name": "Python 3 (ipykernel)",
      "language": "python",
      "name": "python3"
    },
    "language_info": {
      "codemirror_mode": {
        "name": "ipython",
        "version": 3
      },
      "file_extension": ".py",
      "mimetype": "text/x-python",
      "name": "python",
      "nbconvert_exporter": "python",
      "pygments_lexer": "ipython3",
      "version": "3.10.10"
    },
    "vscode": {
      "interpreter": {
        "hash": "b0fa6594d8f4cbf19f97940f81e996739fb7646882a419484c72d19e05852a7e"
      }
    },
    "accelerator": "GPU"
  },
  "nbformat": 4,
  "nbformat_minor": 0
}