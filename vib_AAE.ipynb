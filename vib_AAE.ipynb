{
  "cells": [
    {
      "cell_type": "code",
      "execution_count": null,
      "metadata": {
        "colab": {
          "base_uri": "https://localhost:8080/",
          "height": 53
        },
        "id": "tHTk0Xca0dov",
        "outputId": "8fe6794d-cabe-4cc4-bef4-82d07d042ea5"
      },
      "outputs": [
        {
          "output_type": "execute_result",
          "data": {
            "text/plain": [
              "'\\nAuthor: Mingxin Zhang m.zhang@hapis.u-tokyo.ac.jp\\nDate: 2023-03-06 03:29:29\\nLastEditors: Mingxin Zhang\\nLastEditTime: 2023-04-12 01:54:25\\nCopyright (c) 2023 by Mingxin Zhang, All Rights Reserved. \\n'"
            ],
            "application/vnd.google.colaboratory.intrinsic+json": {
              "type": "string"
            }
          },
          "metadata": {},
          "execution_count": 1
        }
      ],
      "source": [
        "'''\n",
        "Author: Mingxin Zhang m.zhang@hapis.u-tokyo.ac.jp\n",
        "Date: 2023-03-06 03:29:29\n",
        "LastEditors: Mingxin Zhang\n",
        "LastEditTime: 2023-04-12 01:54:25\n",
        "Copyright (c) 2023 by Mingxin Zhang, All Rights Reserved. \n",
        "'''"
      ]
    },
    {
      "cell_type": "code",
      "execution_count": 1,
      "metadata": {
        "colab": {
          "base_uri": "https://localhost:8080/"
        },
        "id": "vwi9Bt6c1U4M",
        "outputId": "04ef41f4-264e-4085-8484-e1c576d900a2"
      },
      "outputs": [
        {
          "output_type": "stream",
          "name": "stdout",
          "text": [
            "Mounted at /content/drive\n"
          ]
        }
      ],
      "source": [
        "from google.colab import drive\n",
        "drive.mount('/content/drive')"
      ]
    },
    {
      "cell_type": "code",
      "execution_count": 2,
      "metadata": {
        "id": "RWwZPCr7SzCP"
      },
      "outputs": [],
      "source": [
        "import matplotlib.pyplot as plt\n",
        "import numpy as np\n",
        "import torch\n",
        "import torchvision\n",
        "import pickle\n",
        "from sklearn.metrics import confusion_matrix, ConfusionMatrixDisplay\n",
        "from sklearn import preprocessing\n",
        "from torchvision import transforms\n",
        "from torch.utils.data import DataLoader\n",
        "from torch import nn\n",
        "import torch.nn.functional as F\n",
        "import torch.optim as optim\n",
        "import itertools"
      ]
    },
    {
      "cell_type": "code",
      "execution_count": 3,
      "metadata": {
        "id": "2RBevBfESzCR"
      },
      "outputs": [],
      "source": [
        "class Encoder(nn.Module):\n",
        "    def __init__(self, encoded_space_dim):\n",
        "        super().__init__()\n",
        "        \n",
        "        ### Convolutional section\n",
        "        self.conv1 = nn.Conv2d(1, 8, 3, padding=1)\n",
        "        self.conv2 = nn.Conv2d(8, 16, 5, padding=2)\n",
        "        self.bn1 = nn.BatchNorm2d(16)\n",
        "        self.conv3 = nn.Conv2d(16, 32, 5, padding=0)\n",
        "        self.bn2 = nn.BatchNorm2d(32)\n",
        "\n",
        "        self.pool = nn.MaxPool2d(2)\n",
        "\n",
        "        self.flatten = nn.Flatten(start_dim=1)\n",
        "\n",
        "        self.fc1 = nn.Linear(32 * 1 * 23, encoded_space_dim)\n",
        "        \n",
        "    def forward(self, x):\n",
        "        x = F.relu(self.conv1(x))\n",
        "        x = self.pool(self.conv2(x))\n",
        "        x = F.relu(self.bn1(x))\n",
        "        x = self.pool(self.conv3(x))\n",
        "        x = F.relu(self.bn2(x))\n",
        "        x = self.flatten(x)\n",
        "\n",
        "        x = self.fc1(x)\n",
        "        return x\n",
        "\n",
        "\n",
        "class Decoder(nn.Module):\n",
        "    def __init__(self, encoded_space_dim):\n",
        "        super().__init__()\n",
        "        self.fc1 = nn.Linear(encoded_space_dim, 32 * 1 * 23)\n",
        "        self.unflatten = nn.Unflatten(dim=1, unflattened_size=(32, 1, 23))\n",
        "\n",
        "        self.deconv1 = nn.ConvTranspose2d(32, 16, 5, stride=2, output_padding=1)\n",
        "        self.bn1 = nn.BatchNorm2d(16)\n",
        "        self.deconv2 = nn.ConvTranspose2d(16, 8, 5, stride=2, padding=2, output_padding=1)\n",
        "        self.bn2 = nn.BatchNorm2d(8)\n",
        "        self.deconv3 = nn.ConvTranspose2d(8, 1, 3, padding=1)\n",
        "        \n",
        "    def forward(self, x):\n",
        "        x = F.relu(self.fc1(x))\n",
        "        x = self.unflatten(x)\n",
        "        x = F.relu(self.bn1(self.deconv1(x)))\n",
        "        x = F.relu(self.bn2(self.deconv2(x)))\n",
        "        x = self.deconv3(x)\n",
        "        return x\n",
        "\n",
        "\n",
        "class Discriminator(nn.Module):\n",
        "    def __init__(self, encoded_space_dim):\n",
        "        super().__init__()\n",
        "        self.fc1 = nn.Linear(encoded_space_dim, 16)\n",
        "        self.fc2 = nn.Linear(16, 1)\n",
        "        \n",
        "    def forward(self, x):\n",
        "        x = F.relu(self.fc1(x))\n",
        "        x = F.sigmoid(self.fc2(x))\n",
        "        return x"
      ]
    },
    {
      "cell_type": "code",
      "execution_count": 17,
      "metadata": {
        "colab": {
          "base_uri": "https://localhost:8080/"
        },
        "id": "QCDDdAwD1DHU",
        "outputId": "9b4f1bda-dc32-4f00-8a05-68e2c6ffa194"
      },
      "outputs": [
        {
          "output_type": "stream",
          "name": "stdout",
          "text": [
            "Selected device: cuda\n"
          ]
        }
      ],
      "source": [
        "device = torch.device(\"cuda\") if torch.cuda.is_available() else torch.device(\"cpu\")\n",
        "print(f'Selected device: {device}')\n",
        "\n",
        "with open('/content/drive/MyDrive/Colab Notebooks/vibrotactile-encoder/trainset.pickle', 'rb') as file:\n",
        "# with open('trainset.pickle', 'rb') as file:\n",
        "    trainset = pickle.load(file)\n",
        "\n",
        "spectrogram = torch.from_numpy(trainset['spectrogram'].astype(np.float32))\n",
        "texture = trainset['texture']\n",
        "le = preprocessing.LabelEncoder()\n",
        "labels = torch.as_tensor(le.fit_transform(texture))\n",
        "\n",
        "train_dataset = torch.utils.data.TensorDataset(spectrogram, labels) \n",
        "train_dataloader = torch.utils.data.DataLoader( \n",
        "    dataset = train_dataset, \n",
        "    batch_size = 64,\n",
        "    shuffle = True, \n",
        "    num_workers = 2, \n",
        "    ) \n",
        "\n",
        "mse = nn.MSELoss()\n",
        "adversarial_loss = nn.BCELoss()\n",
        "\n",
        "FEAT_DIM = 16\n",
        "encoder = Encoder(encoded_space_dim = FEAT_DIM)\n",
        "decoder = Decoder(encoded_space_dim = FEAT_DIM)\n",
        "discriminator = Discriminator(encoded_space_dim = FEAT_DIM)\n",
        "\n",
        "gen_lr = 5e-4\n",
        "reg_lr = 5e-4\n",
        "\n",
        "optimizer_G_Enc = optim.Adam(encoder.parameters(), lr=gen_lr)\n",
        "optimizer_Dec = optim.Adam(decoder.parameters(), lr=gen_lr)\n",
        "\n",
        "optimizer_G_Gen = optim.Adam(encoder.parameters(), lr=reg_lr)\n",
        "optimizer_D = optim.Adam(discriminator.parameters(), lr=reg_lr)\n",
        "\n",
        "encoder.to(device)\n",
        "decoder.to(device)\n",
        "discriminator.to(device)\n",
        "\n",
        "epoch_num = 150"
      ]
    },
    {
      "cell_type": "code",
      "execution_count": 18,
      "metadata": {
        "colab": {
          "base_uri": "https://localhost:8080/"
        },
        "id": "1s_WeV7TSzCR",
        "outputId": "2504cb00-be86-4c23-d995-3eefa582f8b3"
      },
      "outputs": [
        {
          "output_type": "stream",
          "name": "stdout",
          "text": [
            "Epoch:  1 Reconstruction Loss:  467.4308776855469 Discriminator Loss:  0.42607346177101135 Generator Loss:  1.234043002128601\n",
            "Epoch:  2 Reconstruction Loss:  117.53299713134766 Discriminator Loss:  0.640678882598877 Generator Loss:  1.4427525997161865\n",
            "Epoch:  3 Reconstruction Loss:  62.42127990722656 Discriminator Loss:  0.976428210735321 Generator Loss:  1.2624231576919556\n",
            "Epoch:  4 Reconstruction Loss:  55.856040954589844 Discriminator Loss:  0.5720721483230591 Generator Loss:  1.414108157157898\n",
            "Epoch:  5 Reconstruction Loss:  59.49449920654297 Discriminator Loss:  0.7791957855224609 Generator Loss:  1.679568886756897\n",
            "Epoch:  6 Reconstruction Loss:  52.40119171142578 Discriminator Loss:  0.5669464468955994 Generator Loss:  1.8839222192764282\n",
            "Epoch:  7 Reconstruction Loss:  51.79205322265625 Discriminator Loss:  0.7734760642051697 Generator Loss:  1.9254671335220337\n",
            "Epoch:  8 Reconstruction Loss:  49.8733024597168 Discriminator Loss:  0.7292931079864502 Generator Loss:  1.6853570938110352\n",
            "Epoch:  9 Reconstruction Loss:  52.57635498046875 Discriminator Loss:  0.6365752220153809 Generator Loss:  1.4005136489868164\n",
            "Epoch:  10 Reconstruction Loss:  52.20907211303711 Discriminator Loss:  0.43122178316116333 Generator Loss:  2.081136703491211\n",
            "Epoch:  11 Reconstruction Loss:  51.935237884521484 Discriminator Loss:  0.3688364028930664 Generator Loss:  0.2921348512172699\n",
            "Epoch:  12 Reconstruction Loss:  55.393062591552734 Discriminator Loss:  0.5519763827323914 Generator Loss:  0.42568349838256836\n",
            "Epoch:  13 Reconstruction Loss:  54.80463409423828 Discriminator Loss:  0.4183400273323059 Generator Loss:  0.431779682636261\n",
            "Epoch:  14 Reconstruction Loss:  54.337432861328125 Discriminator Loss:  0.6542304754257202 Generator Loss:  0.8264894485473633\n",
            "Epoch:  15 Reconstruction Loss:  52.20542526245117 Discriminator Loss:  0.6267119646072388 Generator Loss:  0.4421595633029938\n",
            "Epoch:  16 Reconstruction Loss:  53.23818588256836 Discriminator Loss:  0.906075656414032 Generator Loss:  1.0590980052947998\n",
            "Epoch:  17 Reconstruction Loss:  53.50148010253906 Discriminator Loss:  0.6612655520439148 Generator Loss:  0.6381925940513611\n",
            "Epoch:  18 Reconstruction Loss:  50.538082122802734 Discriminator Loss:  0.6285654306411743 Generator Loss:  0.9734501838684082\n",
            "Epoch:  19 Reconstruction Loss:  52.786685943603516 Discriminator Loss:  0.4116409420967102 Generator Loss:  0.8106341361999512\n",
            "Epoch:  20 Reconstruction Loss:  52.437801361083984 Discriminator Loss:  0.47614240646362305 Generator Loss:  0.12360105663537979\n",
            "Epoch:  21 Reconstruction Loss:  49.331443786621094 Discriminator Loss:  0.25009414553642273 Generator Loss:  0.1318386048078537\n",
            "Epoch:  22 Reconstruction Loss:  51.62051010131836 Discriminator Loss:  0.049455899745225906 Generator Loss:  0.24901142716407776\n",
            "Epoch:  23 Reconstruction Loss:  51.97395324707031 Discriminator Loss:  0.15822744369506836 Generator Loss:  0.18854251503944397\n",
            "Epoch:  24 Reconstruction Loss:  50.339599609375 Discriminator Loss:  0.586377739906311 Generator Loss:  0.4932651221752167\n",
            "Epoch:  25 Reconstruction Loss:  51.468196868896484 Discriminator Loss:  0.1051606684923172 Generator Loss:  0.41537877917289734\n",
            "Epoch:  26 Reconstruction Loss:  48.25297164916992 Discriminator Loss:  0.0717325285077095 Generator Loss:  0.04323781281709671\n",
            "Epoch:  27 Reconstruction Loss:  51.31131362915039 Discriminator Loss:  0.09437664598226547 Generator Loss:  0.036525484174489975\n",
            "Epoch:  28 Reconstruction Loss:  53.561370849609375 Discriminator Loss:  0.1343870609998703 Generator Loss:  0.2011100798845291\n",
            "Epoch:  29 Reconstruction Loss:  51.32326126098633 Discriminator Loss:  0.22451937198638916 Generator Loss:  0.21740169823169708\n",
            "Epoch:  30 Reconstruction Loss:  51.48822784423828 Discriminator Loss:  0.9729213714599609 Generator Loss:  0.6179479360580444\n",
            "Epoch:  31 Reconstruction Loss:  52.99978256225586 Discriminator Loss:  0.09806900471448898 Generator Loss:  0.20775285363197327\n",
            "Epoch:  32 Reconstruction Loss:  51.866886138916016 Discriminator Loss:  0.21030893921852112 Generator Loss:  0.2774622142314911\n",
            "Epoch:  33 Reconstruction Loss:  49.1113395690918 Discriminator Loss:  0.22536039352416992 Generator Loss:  0.2375025600194931\n",
            "Epoch:  34 Reconstruction Loss:  51.358802795410156 Discriminator Loss:  0.1900869458913803 Generator Loss:  0.2959507703781128\n",
            "Epoch:  35 Reconstruction Loss:  50.414466857910156 Discriminator Loss:  0.08116483688354492 Generator Loss:  0.10932695865631104\n",
            "Epoch:  36 Reconstruction Loss:  51.05237579345703 Discriminator Loss:  0.08785905689001083 Generator Loss:  0.18954022228717804\n",
            "Epoch:  37 Reconstruction Loss:  53.697471618652344 Discriminator Loss:  1.1280440092086792 Generator Loss:  0.41854339838027954\n",
            "Epoch:  38 Reconstruction Loss:  53.08768844604492 Discriminator Loss:  0.2814773619174957 Generator Loss:  0.2741592824459076\n",
            "Epoch:  39 Reconstruction Loss:  51.90620803833008 Discriminator Loss:  0.28222355246543884 Generator Loss:  0.10767634212970734\n",
            "Epoch:  40 Reconstruction Loss:  51.610958099365234 Discriminator Loss:  0.11174054443836212 Generator Loss:  0.22096028923988342\n",
            "Epoch:  41 Reconstruction Loss:  52.19355773925781 Discriminator Loss:  0.08976802974939346 Generator Loss:  0.0845780298113823\n",
            "Epoch:  42 Reconstruction Loss:  49.846031188964844 Discriminator Loss:  0.06964798271656036 Generator Loss:  0.18353478610515594\n",
            "Epoch:  43 Reconstruction Loss:  50.53447341918945 Discriminator Loss:  0.12158546596765518 Generator Loss:  0.22779779136180878\n",
            "Epoch:  44 Reconstruction Loss:  51.00936508178711 Discriminator Loss:  0.07755335420370102 Generator Loss:  0.0474156029522419\n",
            "Epoch:  45 Reconstruction Loss:  49.12129592895508 Discriminator Loss:  0.06867285817861557 Generator Loss:  0.11269044876098633\n",
            "Epoch:  46 Reconstruction Loss:  52.449546813964844 Discriminator Loss:  0.4906565248966217 Generator Loss:  0.1282724142074585\n",
            "Epoch:  47 Reconstruction Loss:  50.53753662109375 Discriminator Loss:  0.01789831556379795 Generator Loss:  0.057736050337553024\n",
            "Epoch:  48 Reconstruction Loss:  52.01494216918945 Discriminator Loss:  0.12185058742761612 Generator Loss:  0.1473299115896225\n",
            "Epoch:  49 Reconstruction Loss:  51.90406036376953 Discriminator Loss:  0.15251927077770233 Generator Loss:  0.1104205846786499\n",
            "Epoch:  50 Reconstruction Loss:  49.86588668823242 Discriminator Loss:  0.02174350619316101 Generator Loss:  0.13621073961257935\n",
            "Epoch:  51 Reconstruction Loss:  52.41796875 Discriminator Loss:  0.10607779026031494 Generator Loss:  0.028411615639925003\n",
            "Epoch:  52 Reconstruction Loss:  49.185420989990234 Discriminator Loss:  0.048739027231931686 Generator Loss:  0.06238945946097374\n",
            "Epoch:  53 Reconstruction Loss:  49.855873107910156 Discriminator Loss:  0.04090898856520653 Generator Loss:  0.1940220594406128\n",
            "Epoch:  54 Reconstruction Loss:  49.155677795410156 Discriminator Loss:  0.11677525192499161 Generator Loss:  0.05297945812344551\n",
            "Epoch:  55 Reconstruction Loss:  52.28560256958008 Discriminator Loss:  0.009394645690917969 Generator Loss:  0.21845141053199768\n",
            "Epoch:  56 Reconstruction Loss:  52.000396728515625 Discriminator Loss:  0.17336776852607727 Generator Loss:  0.04324319586157799\n",
            "Epoch:  57 Reconstruction Loss:  50.326629638671875 Discriminator Loss:  0.05993980914354324 Generator Loss:  0.04481078311800957\n",
            "Epoch:  58 Reconstruction Loss:  50.56523895263672 Discriminator Loss:  0.061108436435461044 Generator Loss:  0.056406330317258835\n",
            "Epoch:  59 Reconstruction Loss:  50.3762092590332 Discriminator Loss:  0.01234412007033825 Generator Loss:  0.058095015585422516\n",
            "Epoch:  60 Reconstruction Loss:  49.884613037109375 Discriminator Loss:  0.005514451768249273 Generator Loss:  0.04933267459273338\n",
            "Epoch:  61 Reconstruction Loss:  47.865821838378906 Discriminator Loss:  0.003503519343212247 Generator Loss:  0.008922236040234566\n",
            "Epoch:  62 Reconstruction Loss:  49.17611312866211 Discriminator Loss:  0.07600505650043488 Generator Loss:  0.03666875138878822\n",
            "Epoch:  63 Reconstruction Loss:  52.612083435058594 Discriminator Loss:  0.012290971353650093 Generator Loss:  0.006581650581210852\n",
            "Epoch:  64 Reconstruction Loss:  49.47198486328125 Discriminator Loss:  0.008583270944654942 Generator Loss:  0.06495670229196548\n",
            "Epoch:  65 Reconstruction Loss:  49.89565658569336 Discriminator Loss:  0.0060854945331811905 Generator Loss:  0.02818503975868225\n",
            "Epoch:  66 Reconstruction Loss:  49.27139663696289 Discriminator Loss:  0.03976411744952202 Generator Loss:  0.01663791574537754\n",
            "Epoch:  67 Reconstruction Loss:  50.42884826660156 Discriminator Loss:  0.04628976061940193 Generator Loss:  0.005634624976664782\n",
            "Epoch:  68 Reconstruction Loss:  50.2160530090332 Discriminator Loss:  0.009716535918414593 Generator Loss:  0.0476861372590065\n",
            "Epoch:  69 Reconstruction Loss:  50.09978485107422 Discriminator Loss:  0.02625339664518833 Generator Loss:  0.0946316346526146\n",
            "Epoch:  70 Reconstruction Loss:  50.87025833129883 Discriminator Loss:  0.0028598010540008545 Generator Loss:  0.054825928062200546\n",
            "Epoch:  71 Reconstruction Loss:  51.31358337402344 Discriminator Loss:  0.0630413070321083 Generator Loss:  0.08868815749883652\n",
            "Epoch:  72 Reconstruction Loss:  50.38258743286133 Discriminator Loss:  0.004343928303569555 Generator Loss:  0.0439419150352478\n",
            "Epoch:  73 Reconstruction Loss:  50.0789680480957 Discriminator Loss:  0.01845627836883068 Generator Loss:  0.009771528653800488\n",
            "Epoch:  74 Reconstruction Loss:  49.8711051940918 Discriminator Loss:  0.023233622312545776 Generator Loss:  0.02755538932979107\n",
            "Epoch:  75 Reconstruction Loss:  50.25422286987305 Discriminator Loss:  0.010288099758327007 Generator Loss:  0.025507444515824318\n",
            "Epoch:  76 Reconstruction Loss:  50.79929733276367 Discriminator Loss:  0.5064000487327576 Generator Loss:  0.0371873714029789\n",
            "Epoch:  77 Reconstruction Loss:  48.75843811035156 Discriminator Loss:  0.019002070650458336 Generator Loss:  0.04599815979599953\n",
            "Epoch:  78 Reconstruction Loss:  50.91682052612305 Discriminator Loss:  0.015569028444588184 Generator Loss:  0.015450392849743366\n",
            "Epoch:  79 Reconstruction Loss:  50.842891693115234 Discriminator Loss:  0.13467195630073547 Generator Loss:  0.036668431013822556\n",
            "Epoch:  80 Reconstruction Loss:  51.161155700683594 Discriminator Loss:  0.1648447960615158 Generator Loss:  0.009709581732749939\n",
            "Epoch:  81 Reconstruction Loss:  49.1810417175293 Discriminator Loss:  0.03385375440120697 Generator Loss:  0.0715320035815239\n",
            "Epoch:  82 Reconstruction Loss:  49.825477600097656 Discriminator Loss:  0.0700896605849266 Generator Loss:  0.03268905356526375\n",
            "Epoch:  83 Reconstruction Loss:  47.85728454589844 Discriminator Loss:  0.002831975696608424 Generator Loss:  0.008916615508496761\n",
            "Epoch:  84 Reconstruction Loss:  50.1964111328125 Discriminator Loss:  0.011449337005615234 Generator Loss:  0.007366540376096964\n",
            "Epoch:  85 Reconstruction Loss:  50.339759826660156 Discriminator Loss:  0.0749177560210228 Generator Loss:  0.0795777440071106\n",
            "Epoch:  86 Reconstruction Loss:  49.616146087646484 Discriminator Loss:  0.019685188308358192 Generator Loss:  0.025947004556655884\n",
            "Epoch:  87 Reconstruction Loss:  50.66093826293945 Discriminator Loss:  0.005195758771151304 Generator Loss:  0.014332455582916737\n",
            "Epoch:  88 Reconstruction Loss:  49.113155364990234 Discriminator Loss:  0.03869263455271721 Generator Loss:  0.04464225098490715\n",
            "Epoch:  89 Reconstruction Loss:  49.791656494140625 Discriminator Loss:  0.020741155371069908 Generator Loss:  0.033520616590976715\n",
            "Epoch:  90 Reconstruction Loss:  51.099796295166016 Discriminator Loss:  0.05037694051861763 Generator Loss:  0.0075763436034321785\n",
            "Epoch:  91 Reconstruction Loss:  47.6037712097168 Discriminator Loss:  0.0017396651674062014 Generator Loss:  0.007359709125012159\n",
            "Epoch:  92 Reconstruction Loss:  51.55904006958008 Discriminator Loss:  0.012980055995285511 Generator Loss:  0.008011913858354092\n",
            "Epoch:  93 Reconstruction Loss:  49.507240295410156 Discriminator Loss:  0.05218905210494995 Generator Loss:  0.043603427708148956\n",
            "Epoch:  94 Reconstruction Loss:  49.54386520385742 Discriminator Loss:  0.04064244404435158 Generator Loss:  0.19322535395622253\n",
            "Epoch:  95 Reconstruction Loss:  49.5923957824707 Discriminator Loss:  0.39475858211517334 Generator Loss:  0.03873274475336075\n",
            "Epoch:  96 Reconstruction Loss:  46.94417190551758 Discriminator Loss:  0.019268274307250977 Generator Loss:  0.02062082104384899\n",
            "Epoch:  97 Reconstruction Loss:  49.645633697509766 Discriminator Loss:  0.14622724056243896 Generator Loss:  0.016734382137656212\n",
            "Epoch:  98 Reconstruction Loss:  47.94881820678711 Discriminator Loss:  0.016045434400439262 Generator Loss:  0.041910916566848755\n",
            "Epoch:  99 Reconstruction Loss:  50.57381820678711 Discriminator Loss:  0.00834553875029087 Generator Loss:  0.017386579886078835\n",
            "Epoch:  100 Reconstruction Loss:  48.07359313964844 Discriminator Loss:  0.0013433676213026047 Generator Loss:  0.021560853347182274\n",
            "Epoch:  101 Reconstruction Loss:  49.20591735839844 Discriminator Loss:  0.0712493285536766 Generator Loss:  0.019774630665779114\n",
            "Epoch:  102 Reconstruction Loss:  49.21150588989258 Discriminator Loss:  0.0012732741888612509 Generator Loss:  0.05565187335014343\n",
            "Epoch:  103 Reconstruction Loss:  54.14474868774414 Discriminator Loss:  0.18894796073436737 Generator Loss:  0.05424204468727112\n",
            "Epoch:  104 Reconstruction Loss:  50.46730041503906 Discriminator Loss:  0.013126342557370663 Generator Loss:  0.06055344268679619\n",
            "Epoch:  105 Reconstruction Loss:  49.94408416748047 Discriminator Loss:  0.0013694947119802237 Generator Loss:  0.139703169465065\n",
            "Epoch:  106 Reconstruction Loss:  49.18760299682617 Discriminator Loss:  0.004720366094261408 Generator Loss:  0.017782380804419518\n",
            "Epoch:  107 Reconstruction Loss:  49.831581115722656 Discriminator Loss:  0.017891723662614822 Generator Loss:  0.011277586221694946\n",
            "Epoch:  108 Reconstruction Loss:  50.97772216796875 Discriminator Loss:  0.013035284355282784 Generator Loss:  0.00824806746095419\n",
            "Epoch:  109 Reconstruction Loss:  49.646488189697266 Discriminator Loss:  0.035533253103494644 Generator Loss:  0.016797808930277824\n",
            "Epoch:  110 Reconstruction Loss:  50.13901138305664 Discriminator Loss:  0.17364883422851562 Generator Loss:  0.020632265135645866\n",
            "Epoch:  111 Reconstruction Loss:  49.96369552612305 Discriminator Loss:  0.0038648273330181837 Generator Loss:  0.0360841229557991\n",
            "Epoch:  112 Reconstruction Loss:  51.537109375 Discriminator Loss:  0.0023365968372672796 Generator Loss:  0.010395330376923084\n",
            "Epoch:  113 Reconstruction Loss:  50.74111557006836 Discriminator Loss:  0.003491783980280161 Generator Loss:  0.016633417457342148\n",
            "Epoch:  114 Reconstruction Loss:  51.351810455322266 Discriminator Loss:  0.016154829412698746 Generator Loss:  0.02185596153140068\n",
            "Epoch:  115 Reconstruction Loss:  48.63036346435547 Discriminator Loss:  0.037989210337400436 Generator Loss:  0.05183933302760124\n",
            "Epoch:  116 Reconstruction Loss:  49.77586364746094 Discriminator Loss:  0.13178275525569916 Generator Loss:  0.010802904143929482\n",
            "Epoch:  117 Reconstruction Loss:  52.24336242675781 Discriminator Loss:  0.018386609852313995 Generator Loss:  0.012532000429928303\n",
            "Epoch:  118 Reconstruction Loss:  49.10427474975586 Discriminator Loss:  0.005357918795198202 Generator Loss:  0.007711306214332581\n",
            "Epoch:  119 Reconstruction Loss:  50.037052154541016 Discriminator Loss:  0.0026445763651281595 Generator Loss:  0.020629137754440308\n",
            "Epoch:  120 Reconstruction Loss:  49.39350509643555 Discriminator Loss:  0.0031991153955459595 Generator Loss:  0.006087459623813629\n",
            "Epoch:  121 Reconstruction Loss:  47.41161346435547 Discriminator Loss:  0.003392650280147791 Generator Loss:  0.004295052960515022\n",
            "Epoch:  122 Reconstruction Loss:  51.260440826416016 Discriminator Loss:  0.023662758991122246 Generator Loss:  0.002538166241720319\n",
            "Epoch:  123 Reconstruction Loss:  49.10623550415039 Discriminator Loss:  0.009652865119278431 Generator Loss:  0.0006614112644456327\n",
            "Epoch:  124 Reconstruction Loss:  48.84096908569336 Discriminator Loss:  0.0003233847673982382 Generator Loss:  0.0015563088236376643\n",
            "Epoch:  125 Reconstruction Loss:  51.386417388916016 Discriminator Loss:  0.0005041611730121076 Generator Loss:  0.01980525068938732\n",
            "Epoch:  126 Reconstruction Loss:  51.117061614990234 Discriminator Loss:  0.00037059051101095974 Generator Loss:  0.0016237454256042838\n",
            "Epoch:  127 Reconstruction Loss:  48.80183792114258 Discriminator Loss:  0.0006826816243119538 Generator Loss:  0.007022646721452475\n",
            "Epoch:  128 Reconstruction Loss:  50.77531814575195 Discriminator Loss:  0.06963612139225006 Generator Loss:  0.004286053124815226\n",
            "Epoch:  129 Reconstruction Loss:  48.99073791503906 Discriminator Loss:  0.001238808035850525 Generator Loss:  0.007677842862904072\n",
            "Epoch:  130 Reconstruction Loss:  51.38528060913086 Discriminator Loss:  0.005974782630801201 Generator Loss:  0.006380790378898382\n",
            "Epoch:  131 Reconstruction Loss:  49.4575080871582 Discriminator Loss:  0.010165109299123287 Generator Loss:  0.018284805119037628\n",
            "Epoch:  132 Reconstruction Loss:  51.76726150512695 Discriminator Loss:  0.0022101530339568853 Generator Loss:  0.0078104520216584206\n",
            "Epoch:  133 Reconstruction Loss:  48.841697692871094 Discriminator Loss:  0.0007209551986306906 Generator Loss:  0.01637229137122631\n",
            "Epoch:  134 Reconstruction Loss:  49.56549835205078 Discriminator Loss:  0.0006291104364208877 Generator Loss:  0.006142146419733763\n",
            "Epoch:  135 Reconstruction Loss:  50.541500091552734 Discriminator Loss:  0.001204267842695117 Generator Loss:  0.00860616099089384\n",
            "Epoch:  136 Reconstruction Loss:  48.094154357910156 Discriminator Loss:  0.010369411669671535 Generator Loss:  0.029635116457939148\n",
            "Epoch:  137 Reconstruction Loss:  45.85504150390625 Discriminator Loss:  0.01305931806564331 Generator Loss:  0.017389172688126564\n",
            "Epoch:  138 Reconstruction Loss:  51.13078689575195 Discriminator Loss:  0.06017264723777771 Generator Loss:  0.016812676563858986\n",
            "Epoch:  139 Reconstruction Loss:  51.40679168701172 Discriminator Loss:  0.0041932943277060986 Generator Loss:  0.007936492562294006\n",
            "Epoch:  140 Reconstruction Loss:  47.7923469543457 Discriminator Loss:  0.0008897603838704526 Generator Loss:  0.0025637114886194468\n",
            "Epoch:  141 Reconstruction Loss:  49.77217102050781 Discriminator Loss:  0.002960979240015149 Generator Loss:  0.009746640920639038\n",
            "Epoch:  142 Reconstruction Loss:  50.116458892822266 Discriminator Loss:  0.006426709238439798 Generator Loss:  0.010244656354188919\n",
            "Epoch:  143 Reconstruction Loss:  50.144615173339844 Discriminator Loss:  0.0019098427146673203 Generator Loss:  0.016513753682374954\n",
            "Epoch:  144 Reconstruction Loss:  49.9801025390625 Discriminator Loss:  0.48812246322631836 Generator Loss:  0.08315711468458176\n",
            "Epoch:  145 Reconstruction Loss:  49.05305099487305 Discriminator Loss:  0.011013663373887539 Generator Loss:  0.028163651004433632\n",
            "Epoch:  146 Reconstruction Loss:  50.0255012512207 Discriminator Loss:  0.0017064897110685706 Generator Loss:  0.015877140685915947\n",
            "Epoch:  147 Reconstruction Loss:  50.248050689697266 Discriminator Loss:  0.058142900466918945 Generator Loss:  0.00824602972716093\n",
            "Epoch:  148 Reconstruction Loss:  51.806331634521484 Discriminator Loss:  0.0017704535275697708 Generator Loss:  0.01149185374379158\n",
            "Epoch:  149 Reconstruction Loss:  50.23057174682617 Discriminator Loss:  0.05294233188033104 Generator Loss:  0.05574312433600426\n",
            "Epoch:  150 Reconstruction Loss:  48.542144775390625 Discriminator Loss:  0.03494453430175781 Generator Loss:  0.020375212654471397\n"
          ]
        }
      ],
      "source": [
        "EPS = 1e-15\n",
        "\n",
        "for epoch in range(1, epoch_num + 1):\n",
        "    encoder.train()\n",
        "    decoder.train()\n",
        "    discriminator.train()\n",
        "\n",
        "    for i, (img, label) in enumerate(train_dataloader):\n",
        "        img = torch.unsqueeze(img, 1) # Add channel axis (1 channel)\n",
        "        img = img.to(device)\n",
        "\n",
        "        encoder.zero_grad()\n",
        "        decoder.zero_grad()\n",
        "        discriminator.zero_grad()\n",
        "\n",
        "        # 1) reconstruction\n",
        "        z_gen = encoder(img)\n",
        "        img_pred = decoder(z_gen)\n",
        "        recon_loss = mse(img_pred+EPS, img+EPS)\n",
        "\n",
        "        recon_loss.backward()\n",
        "        optimizer_G_Enc.step()\n",
        "        optimizer_Dec.step()\n",
        "\n",
        "        # 2) discriminator\n",
        "        encoder.eval()\n",
        "\n",
        "        real_z = torch.autograd.Variable(torch.Tensor(np.random.normal(0, 1, (img.shape[0], FEAT_DIM)))).to(device)\n",
        "        fake_z = encoder(img)\n",
        "\n",
        "        D_real_gauss = discriminator(real_z)\n",
        "        D_fake_gauss = discriminator(fake_z)\n",
        "\n",
        "        D_loss = -torch.mean(torch.log(D_real_gauss + EPS) + torch.log(1 - D_fake_gauss + EPS))\n",
        "        D_loss.backward()\n",
        "        optimizer_D.step()\n",
        "\n",
        "        # generator\n",
        "        encoder.train()\n",
        "        fake_z = encoder(img)\n",
        "        D_fake_gauss = discriminator(fake_z)\n",
        "        G_loss = -torch.mean(torch.log(D_fake_gauss + EPS))\n",
        "        G_loss.backward()\n",
        "        optimizer_G_Gen.step()\n",
        "\n",
        "    print('Epoch: ', epoch, 'Reconstruction Loss: ', recon_loss.item(), 'Discriminator Loss: ', D_loss.item(), 'Generator Loss: ', G_loss.item())\n",
        "\n",
        "torch.save(encoder.state_dict(), '/content/drive/MyDrive/Colab Notebooks/vibrotactile-encoder/encoder_' + str(FEAT_DIM) + 'd.pt')\n",
        "torch.save(decoder.state_dict(), '/content/drive/MyDrive/Colab Notebooks/vibrotactile-encoder/decoder_' + str(FEAT_DIM) + 'd.pt')\n",
        "torch.save(discriminator.state_dict(), '/content/drive/MyDrive/Colab Notebooks/vibrotactile-encoder/discriminator_' + str(FEAT_DIM) + 'd.pt')"
      ]
    },
    {
      "cell_type": "code",
      "execution_count": 19,
      "metadata": {
        "colab": {
          "base_uri": "https://localhost:8080/"
        },
        "id": "7m7_9Kx3_1H6",
        "outputId": "eeac733f-7d78-4113-b90b-b9b9019f0ec0"
      },
      "outputs": [
        {
          "output_type": "execute_result",
          "data": {
            "text/plain": [
              "<All keys matched successfully>"
            ]
          },
          "metadata": {},
          "execution_count": 19
        }
      ],
      "source": [
        "encoder = Encoder(encoded_space_dim = FEAT_DIM)\n",
        "decoder = Decoder(encoded_space_dim = FEAT_DIM)\n",
        "\n",
        "encoder_dict = torch.load('/content/drive/MyDrive/Colab Notebooks/vibrotactile-encoder/encoder_' + str(FEAT_DIM) + 'd.pt', map_location=torch.device('cpu'))\n",
        "encoder_dict = {k: v for k, v in encoder_dict.items()}\n",
        "\n",
        "decoder_dict = torch.load('/content/drive/MyDrive/Colab Notebooks/vibrotactile-encoder/decoder_' + str(FEAT_DIM) + 'd.pt', map_location=torch.device('cpu'))\n",
        "decoder_dict = {k: v for k, v in decoder_dict.items()}\n",
        "\n",
        "encoder.load_state_dict(encoder_dict)\n",
        "decoder.load_state_dict(decoder_dict)"
      ]
    },
    {
      "cell_type": "code",
      "execution_count": 22,
      "metadata": {
        "colab": {
          "base_uri": "https://localhost:8080/"
        },
        "id": "ZSmqEzGunWmo",
        "outputId": "642c0cab-f792-47b2-cb76-6fe6d4363ae1"
      },
      "outputs": [
        {
          "output_type": "stream",
          "name": "stdout",
          "text": [
            "Autoencoder Loss:  88.40476989746094\n"
          ]
        }
      ],
      "source": [
        "encoder.eval()\n",
        "decoder.eval()\n",
        "encoder.to(device)\n",
        "decoder.to(device)\n",
        "\n",
        "correct = torch.zeros(1).squeeze().to(device)\n",
        "total = torch.zeros(1).squeeze().to(device)\n",
        "\n",
        "test_img = []\n",
        "test_trues = []\n",
        "vib_feat = []\n",
        "reconstruct_spec = []\n",
        "\n",
        "with torch.no_grad():\n",
        "    for i, (img, label) in enumerate(train_dataloader):\n",
        "        img = torch.unsqueeze(img, 1) # Add channel axis (1 channel)\n",
        "        img = img.to(device)\n",
        "        label = label.to(device)\n",
        "\n",
        "        feat = encoder(img)\n",
        "        pred_img = decoder(feat)\n",
        "\n",
        "        autoencoder_loss = mse(pred_img, img)\n",
        "\n",
        "        test_trues.extend(label.detach().cpu().numpy())\n",
        "        vib_feat.extend(feat.detach().cpu().numpy())\n",
        "        reconstruct_spec.extend(pred_img.detach().cpu().numpy())\n",
        "        test_img.extend(img.detach().cpu().numpy())\n",
        "\n",
        "print('Autoencoder Loss: ', autoencoder_loss.item())"
      ]
    },
    {
      "cell_type": "code",
      "execution_count": 23,
      "metadata": {
        "id": "HPeKUO6N89Hi"
      },
      "outputs": [],
      "source": [
        "feat_dict = {'original_vib': test_img,\n",
        "             'labels': test_trues,\n",
        "             'vib_feat': vib_feat,\n",
        "             'decoded_vib': reconstruct_spec\n",
        "             }\n",
        "\n",
        "file = open('/content/drive/MyDrive/Colab Notebooks/vibrotactile-encoder/feat_dict_' + str(FEAT_DIM) + 'd.pickle', 'wb')\n",
        "pickle.dump(feat_dict, file)\n",
        "file.close()\n",
        "\n",
        "with open('/content/drive/MyDrive/Colab Notebooks/vibrotactile-encoder/feat_dict_' + str(FEAT_DIM) + 'd.pickle', 'rb') as file:\n",
        "    feat_dict = pickle.load(file)"
      ]
    },
    {
      "cell_type": "code",
      "execution_count": 24,
      "metadata": {
        "colab": {
          "base_uri": "https://localhost:8080/",
          "height": 159
        },
        "id": "aVz1zXuA_1H6",
        "outputId": "34ed33a8-8938-4b0c-99d9-9cd3fd36a85c"
      },
      "outputs": [
        {
          "output_type": "stream",
          "name": "stdout",
          "text": [
            "True label:  4\n"
          ]
        },
        {
          "output_type": "execute_result",
          "data": {
            "text/plain": [
              "<matplotlib.image.AxesImage at 0x7f5b8a0ecbe0>"
            ]
          },
          "metadata": {},
          "execution_count": 24
        },
        {
          "output_type": "display_data",
          "data": {
            "text/plain": [
              "<Figure size 640x480 with 1 Axes>"
            ],
            "image/png": "[encoded data removed]"
          },
          "metadata": {}
        }
      ],
      "source": [
        "index = np.random.randint(0, len(train_dataloader.dataset))\n",
        "print('True label: ', test_trues[index])\n",
        "plt.imshow(test_img[index].squeeze())"
      ]
    },
    {
      "cell_type": "code",
      "execution_count": 25,
      "metadata": {
        "colab": {
          "base_uri": "https://localhost:8080/",
          "height": 141
        },
        "id": "7THTpFlM4WKP",
        "outputId": "8dff0b70-3118-4fe3-a5f6-dfed3dcfa874"
      },
      "outputs": [
        {
          "output_type": "execute_result",
          "data": {
            "text/plain": [
              "<matplotlib.image.AxesImage at 0x7f5b8a0f7610>"
            ]
          },
          "metadata": {},
          "execution_count": 25
        },
        {
          "output_type": "display_data",
          "data": {
            "text/plain": [
              "<Figure size 640x480 with 1 Axes>"
            ],
            "image/png": "[encoded data removed]"
          },
          "metadata": {}
        }
      ],
      "source": [
        "plt.imshow(reconstruct_spec[index].squeeze())"
      ]
    },
    {
      "cell_type": "code",
      "execution_count": 26,
      "metadata": {
        "colab": {
          "base_uri": "https://localhost:8080/",
          "height": 115
        },
        "id": "x9Lpq2O46kQQ",
        "outputId": "0e5178d7-fb34-43f2-935d-af6f9215f001"
      },
      "outputs": [
        {
          "output_type": "execute_result",
          "data": {
            "text/plain": [
              "<matplotlib.image.AxesImage at 0x7f5b8aae5df0>"
            ]
          },
          "metadata": {},
          "execution_count": 26
        },
        {
          "output_type": "display_data",
          "data": {
            "text/plain": [
              "<Figure size 640x480 with 1 Axes>"
            ],
            "image/png": "[encoded data removed]"
          },
          "metadata": {}
        }
      ],
      "source": [
        "plt.imshow(np.expand_dims(vib_feat[index], axis=0))"
      ]
    }
  ],
  "metadata": {
    "accelerator": "GPU",
    "colab": {
      "provenance": []
    },
    "gpuClass": "standard",
    "kernelspec": {
      "display_name": "Python 3",
      "language": "python",
      "name": "python3"
    },
    "language_info": {
      "codemirror_mode": {
        "name": "ipython",
        "version": 3
      },
      "file_extension": ".py",
      "mimetype": "text/x-python",
      "name": "python",
      "nbconvert_exporter": "python",
      "pygments_lexer": "ipython3",
      "version": "3.10.10"
    },
    "vscode": {
      "interpreter": {
        "hash": "bd385fe162c5ca0c84973b7dd5c518456272446b2b64e67c2a69f949ca7a1754"
      }
    }
  },
  "nbformat": 4,
  "nbformat_minor": 0
}