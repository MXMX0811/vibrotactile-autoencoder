{
  "cells": [
    {
      "cell_type": "code",
      "execution_count": 16,
      "metadata": {
        "colab": {
          "base_uri": "https://localhost:8080/"
        },
        "id": "vwi9Bt6c1U4M",
        "outputId": "4f7d0e14-f3c0-4e5e-a8e5-b0dd20566656"
      },
      "outputs": [
        {
          "output_type": "stream",
          "name": "stdout",
          "text": [
            "Drive already mounted at /content/drive; to attempt to forcibly remount, call drive.mount(\"/content/drive\", force_remount=True).\n"
          ]
        }
      ],
      "source": [
        "from google.colab import drive\n",
        "drive.mount('/content/drive')"
      ]
    },
    {
      "cell_type": "code",
      "execution_count": 2,
      "metadata": {
        "id": "RWwZPCr7SzCP"
      },
      "outputs": [],
      "source": [
        "import matplotlib.pyplot as plt\n",
        "import numpy as np\n",
        "import torch\n",
        "import torchvision\n",
        "import pickle\n",
        "from sklearn.metrics import confusion_matrix, ConfusionMatrixDisplay\n",
        "from sklearn import preprocessing\n",
        "from torchvision import transforms\n",
        "from torch.utils.data import DataLoader\n",
        "from torch import nn\n",
        "import torch.nn.functional as F\n",
        "import torch.optim as optim\n",
        "from sklearn.model_selection import train_test_split"
      ]
    },
    {
      "cell_type": "code",
      "execution_count": 3,
      "metadata": {
        "id": "2RBevBfESzCR"
      },
      "outputs": [],
      "source": [
        "class Encoder(nn.Module):\n",
        "    def __init__(self, encoded_space_dim):\n",
        "        super().__init__()\n",
        "        \n",
        "        ### Convolutional section\n",
        "        self.conv1 = nn.Conv2d(1, 8, 3, padding=1)\n",
        "        self.conv2 = nn.Conv2d(8, 16, 5, padding=2)\n",
        "        self.bn1 = nn.BatchNorm2d(16)\n",
        "        self.pool1 = nn.MaxPool2d(2, return_indices=True)\n",
        "        self.conv3 = nn.Conv2d(16, 32, 5, padding=0)\n",
        "        self.bn2 = nn.BatchNorm2d(32)\n",
        "        self.pool2 = nn.MaxPool2d(2, return_indices=True)\n",
        "        self.flatten = nn.Flatten(start_dim=1)\n",
        "        self.fc1 = nn.Linear(32 * 1 * 23, 128)\n",
        "        self.fc2 = nn.Linear(128, encoded_space_dim)\n",
        "        \n",
        "    def forward(self, x):\n",
        "        x = F.relu(self.conv1(x))\n",
        "        x, i_1 = self.pool1(self.conv2(x))\n",
        "        x = F.relu(self.bn1(x))\n",
        "        x, i_2 = self.pool2(self.conv3(x))\n",
        "        x = F.relu(self.bn2(x))\n",
        "        x = self.flatten(x)\n",
        "        x = F.relu(self.fc1(x))\n",
        "        x = F.sigmoid(self.fc2(x))\n",
        "        return x, i_1, i_2\n",
        "\n",
        "\n",
        "class Decoder(nn.Module):\n",
        "    def __init__(self, encoded_space_dim):\n",
        "        super().__init__()\n",
        "        self.fc1 = nn.Linear(encoded_space_dim, 128)\n",
        "        self.fc2 = nn.Linear(128, 32 * 1 * 23)\n",
        "        self.unflatten = nn.Unflatten(dim=1, unflattened_size=(32, 1, 23))\n",
        "\n",
        "        self.deconv1 = nn.ConvTranspose2d(32, 16, 5, output_padding=0)\n",
        "        self.bn1 = nn.BatchNorm2d(16)\n",
        "        self.unpool1 = nn.MaxUnpool2d(2)\n",
        "        self.deconv2 = nn.ConvTranspose2d(16, 8, 5, padding=2)\n",
        "        self.bn2 = nn.BatchNorm2d(8)\n",
        "        self.unpool2 = nn.MaxUnpool2d(2)\n",
        "        self.deconv3 = nn.ConvTranspose2d(8, 1, 3, padding=1)\n",
        "        \n",
        "    def forward(self, x, unpool_i1, unpool_i2):\n",
        "        x = F.relu(self.fc1(x))\n",
        "        x = F.relu(self.fc2(x))\n",
        "        x = self.unflatten(x)\n",
        "        x = self.unpool1(x, unpool_i2)\n",
        "        x = F.relu(self.bn1(self.deconv1(x)))\n",
        "        x = self.unpool2(x, unpool_i1)\n",
        "        x = F.relu(self.bn2(self.deconv2(x)))\n",
        "        x = self.deconv3(x)\n",
        "        return x\n",
        "\n",
        "\n",
        "class Classifier(nn.Module):\n",
        "    def __init__(self, encoded_space_dim):\n",
        "        super().__init__()\n",
        "        self.fc1 = nn.Linear(encoded_space_dim, 16)\n",
        "        self.fc2 = nn.Linear(16, 7)\n",
        "        \n",
        "    def forward(self, x):\n",
        "        x = F.relu(self.fc1(x))\n",
        "        x = F.softmax(self.fc2(x), dim=1) #dim0=batch, dim1=element\n",
        "        return x\n",
        "    \n",
        "\n",
        "class AutoEncoder(nn.Module):\n",
        "    def __init__(self, Encoder, Decoder, Classifier):\n",
        "        super().__init__()\n",
        "        self.encoder = Encoder\n",
        "        self.decoder = Decoder\n",
        "        self.classifier = Classifier\n",
        "        \n",
        "    def forward(self, x):\n",
        "        feat, i_1, i_2 = self.encoder(x)\n",
        "        pred_img = self.decoder(feat, i_1, i_2)\n",
        "        pred_label = self.classifier(feat)\n",
        "        return feat, pred_img, pred_label"
      ]
    },
    {
      "cell_type": "code",
      "execution_count": 22,
      "metadata": {
        "colab": {
          "base_uri": "https://localhost:8080/"
        },
        "id": "QCDDdAwD1DHU",
        "outputId": "46110415-d70f-4388-c87b-722fc9f32e21"
      },
      "outputs": [
        {
          "output_type": "stream",
          "name": "stdout",
          "text": [
            "Selected device: cuda\n"
          ]
        }
      ],
      "source": [
        "device = torch.device(\"cuda\") if torch.cuda.is_available() else torch.device(\"cpu\")\n",
        "print(f'Selected device: {device}')\n",
        "\n",
        "with open('/content/drive/MyDrive/Colab Notebooks/vibrotactile-encoder/train66%.pickle', 'rb') as file:\n",
        "# with open('trainset.pickle', 'rb') as file:\n",
        "    trainset = pickle.load(file)\n",
        "\n",
        "with open('/content/drive/MyDrive/Colab Notebooks/vibrotactile-encoder/test33%.pickle', 'rb') as file:\n",
        "# with open('trainset.pickle', 'rb') as file:\n",
        "    testset = pickle.load(file)\n",
        "\n",
        "train_X = torch.from_numpy(trainset['spectrogram'].astype(np.float32))\n",
        "train_y = trainset['texture']\n",
        "le = preprocessing.LabelEncoder()\n",
        "train_y = torch.as_tensor(le.fit_transform(train_y))\n",
        "\n",
        "test_X = torch.from_numpy(testset['spectrogram'].astype(np.float32))\n",
        "test_y = testset['texture']\n",
        "test_y = torch.as_tensor(le.fit_transform(test_y))\n",
        "\n",
        "train_dataset = torch.utils.data.TensorDataset(train_X, train_y) \n",
        "train_dataloader = torch.utils.data.DataLoader( \n",
        "    dataset = train_dataset, \n",
        "    batch_size = 64,\n",
        "    shuffle = True, \n",
        "    num_workers = 2, \n",
        "    ) \n",
        "\n",
        "test_dataset = torch.utils.data.TensorDataset(test_X, test_y) \n",
        "test_dataloader = torch.utils.data.DataLoader( \n",
        "    dataset = test_dataset, \n",
        "    batch_size = 64,\n",
        "    shuffle = True, \n",
        "    num_workers = 2, \n",
        "    ) \n",
        "\n",
        "mse = nn.MSELoss()\n",
        "crossentropy = nn.CrossEntropyLoss()\n",
        "\n",
        "encoder = Encoder(encoded_space_dim = 20)\n",
        "decoder = Decoder(encoded_space_dim = 20)\n",
        "classifier = Classifier(encoded_space_dim = 20)\n",
        "params_to_optimize = [\n",
        "    {'params': encoder.parameters()},\n",
        "    {'params': decoder.parameters()},\n",
        "    {'params': classifier.parameters()}\n",
        "]\n",
        "\n",
        "optimizer = optim.Adam(params_to_optimize, lr=5e-4, weight_decay=1e-05)\n",
        "scheduler = optim.lr_scheduler.ReduceLROnPlateau(optimizer, 'min', factor=0.8, patience=5)\n",
        "\n",
        "encoder.to(device)\n",
        "decoder.to(device)\n",
        "classifier.to(device)\n",
        "\n",
        "epoch_num = 100"
      ]
    },
    {
      "cell_type": "code",
      "execution_count": 23,
      "metadata": {
        "colab": {
          "base_uri": "https://localhost:8080/"
        },
        "id": "1s_WeV7TSzCR",
        "outputId": "fe0954a8-bbcb-499e-8166-09f4e6c8a5de"
      },
      "outputs": [
        {
          "output_type": "stream",
          "name": "stdout",
          "text": [
            "Epoch:  1 Accuracy:  0.29850745 Autoencoder Loss:  897.8715209960938\n",
            "Epoch:  2 Accuracy:  0.29867238 Autoencoder Loss:  275.61676025390625\n",
            "Epoch:  3 Accuracy:  0.42009565 Autoencoder Loss:  95.38999938964844\n",
            "Epoch:  4 Accuracy:  0.5525687 Autoencoder Loss:  47.19963073730469\n",
            "Epoch:  5 Accuracy:  0.5822957 Autoencoder Loss:  29.979711532592773\n",
            "Epoch:  6 Accuracy:  0.61424917 Autoencoder Loss:  26.51595115661621\n",
            "Epoch:  7 Accuracy:  0.67667186 Autoencoder Loss:  26.04450225830078\n",
            "Epoch:  8 Accuracy:  0.68982434 Autoencoder Loss:  24.91246795654297\n",
            "Epoch:  9 Accuracy:  0.6934526 Autoencoder Loss:  26.33439826965332\n",
            "Epoch:  10 Accuracy:  0.6956378 Autoencoder Loss:  21.785486221313477\n",
            "Epoch:  11 Accuracy:  0.6951843 Autoencoder Loss:  21.51206398010254\n",
            "Epoch:  12 Accuracy:  0.69539046 Autoencoder Loss:  21.405046463012695\n",
            "Epoch:  13 Accuracy:  0.6959677 Autoencoder Loss:  21.407623291015625\n",
            "Epoch:  14 Accuracy:  0.6965449 Autoencoder Loss:  21.995595932006836\n",
            "Epoch:  15 Accuracy:  0.6967098 Autoencoder Loss:  20.552865982055664\n",
            "Epoch:  16 Accuracy:  0.69811165 Autoencoder Loss:  19.101091384887695\n",
            "Epoch:  17 Accuracy:  0.69774055 Autoencoder Loss:  19.797691345214844\n",
            "Epoch:  18 Accuracy:  0.69840026 Autoencoder Loss:  18.047277450561523\n",
            "Epoch:  19 Accuracy:  0.6980704 Autoencoder Loss:  18.844831466674805\n",
            "Epoch:  20 Accuracy:  0.69848275 Autoencoder Loss:  18.213958740234375\n",
            "Epoch:  21 Accuracy:  0.6992661 Autoencoder Loss:  18.115680694580078\n",
            "Epoch:  22 Accuracy:  0.6991424 Autoencoder Loss:  17.5950984954834\n",
            "Epoch:  23 Accuracy:  0.69934857 Autoencoder Loss:  17.91526222229004\n",
            "Epoch:  24 Accuracy:  0.6988538 Autoencoder Loss:  17.149946212768555\n",
            "Epoch:  25 Accuracy:  0.7007504 Autoencoder Loss:  18.678001403808594\n",
            "Epoch:  26 Accuracy:  0.72895193 Autoencoder Loss:  16.823476791381836\n",
            "Epoch:  27 Accuracy:  0.74680465 Autoencoder Loss:  16.45442008972168\n",
            "Epoch:  28 Accuracy:  0.7548858 Autoencoder Loss:  16.336917877197266\n",
            "Epoch:  29 Accuracy:  0.760658 Autoencoder Loss:  16.406679153442383\n",
            "Epoch:  30 Accuracy:  0.76197743 Autoencoder Loss:  16.300615310668945\n",
            "Epoch:  31 Accuracy:  0.7665952 Autoencoder Loss:  16.09602165222168\n",
            "Epoch:  32 Accuracy:  0.7664715 Autoencoder Loss:  15.769939422607422\n",
            "Epoch:  33 Accuracy:  0.77376926 Autoencoder Loss:  16.155059814453125\n",
            "Epoch:  34 Accuracy:  0.78275746 Autoencoder Loss:  15.952825546264648\n",
            "Epoch:  35 Accuracy:  0.7942195 Autoencoder Loss:  16.165632247924805\n",
            "Epoch:  36 Accuracy:  0.807372 Autoencoder Loss:  15.582832336425781\n",
            "Epoch:  37 Accuracy:  0.8173909 Autoencoder Loss:  15.064618110656738\n",
            "Epoch:  38 Accuracy:  0.8233693 Autoencoder Loss:  15.343313217163086\n",
            "Epoch:  39 Accuracy:  0.82749236 Autoencoder Loss:  15.216475486755371\n",
            "Epoch:  40 Accuracy:  0.83784115 Autoencoder Loss:  16.374088287353516\n",
            "Epoch:  41 Accuracy:  0.8385421 Autoencoder Loss:  16.082063674926758\n",
            "Epoch:  42 Accuracy:  0.84460294 Autoencoder Loss:  16.09870147705078\n",
            "Epoch:  43 Accuracy:  0.8431599 Autoencoder Loss:  14.837984085083008\n",
            "Epoch:  44 Accuracy:  0.8506226 Autoencoder Loss:  16.556610107421875\n",
            "Epoch:  45 Accuracy:  0.8511998 Autoencoder Loss:  15.554499626159668\n",
            "Epoch:  46 Accuracy:  0.8551579 Autoencoder Loss:  17.109041213989258\n",
            "Epoch:  47 Accuracy:  0.8547868 Autoencoder Loss:  14.97396183013916\n",
            "Epoch:  48 Accuracy:  0.8566422 Autoencoder Loss:  15.02308464050293\n",
            "Epoch:  49 Accuracy:  0.85944587 Autoencoder Loss:  14.75036907196045\n",
            "Epoch:  50 Accuracy:  0.8637751 Autoencoder Loss:  14.95159912109375\n",
            "Epoch:  51 Accuracy:  0.86389875 Autoencoder Loss:  14.236307144165039\n",
            "Epoch:  52 Accuracy:  0.8653418 Autoencoder Loss:  14.352720260620117\n",
            "Epoch:  53 Accuracy:  0.8680218 Autoencoder Loss:  14.997450828552246\n",
            "Epoch:  54 Accuracy:  0.8685165 Autoencoder Loss:  15.041972160339355\n",
            "Epoch:  55 Accuracy:  0.87156755 Autoencoder Loss:  14.545145988464355\n",
            "Epoch:  56 Accuracy:  0.8754432 Autoencoder Loss:  14.971631050109863\n",
            "Epoch:  57 Accuracy:  0.87511337 Autoencoder Loss:  14.498394012451172\n",
            "Epoch:  58 Accuracy:  0.88080317 Autoencoder Loss:  17.527671813964844\n",
            "Epoch:  59 Accuracy:  0.8809681 Autoencoder Loss:  14.845146179199219\n",
            "Epoch:  60 Accuracy:  0.88814217 Autoencoder Loss:  15.392592430114746\n",
            "Epoch:  61 Accuracy:  0.92516696 Autoencoder Loss:  14.675905227661133\n",
            "Epoch:  62 Accuracy:  0.9292488 Autoencoder Loss:  14.398514747619629\n",
            "Epoch:  63 Accuracy:  0.9334955 Autoencoder Loss:  14.09994125366211\n",
            "Epoch:  64 Accuracy:  0.93530965 Autoencoder Loss:  15.25352668762207\n",
            "Epoch:  65 Accuracy:  0.9391028 Autoencoder Loss:  14.734465599060059\n",
            "Epoch:  66 Accuracy:  0.9394739 Autoencoder Loss:  14.416817665100098\n",
            "Epoch:  67 Accuracy:  0.9432671 Autoencoder Loss:  14.249832153320312\n",
            "Epoch:  68 Accuracy:  0.94471014 Autoencoder Loss:  15.352566719055176\n",
            "Epoch:  69 Accuracy:  0.9462769 Autoencoder Loss:  15.50756549835205\n",
            "Epoch:  70 Accuracy:  0.94718397 Autoencoder Loss:  15.045547485351562\n",
            "Epoch:  71 Accuracy:  0.95122457 Autoencoder Loss:  13.823501586914062\n",
            "Epoch:  72 Accuracy:  0.9497815 Autoencoder Loss:  14.63615894317627\n",
            "Epoch:  73 Accuracy:  0.9511008 Autoencoder Loss:  15.1947660446167\n",
            "Epoch:  74 Accuracy:  0.9515956 Autoencoder Loss:  14.309835433959961\n",
            "Epoch:  75 Accuracy:  0.95258516 Autoencoder Loss:  14.763642311096191\n",
            "Epoch:  76 Accuracy:  0.95357466 Autoencoder Loss:  14.390347480773926\n",
            "Epoch:  77 Accuracy:  0.95221406 Autoencoder Loss:  14.673291206359863\n",
            "Epoch:  78 Accuracy:  0.9553476 Autoencoder Loss:  13.833220481872559\n",
            "Epoch:  79 Accuracy:  0.95625466 Autoencoder Loss:  13.838212966918945\n",
            "Epoch:  80 Accuracy:  0.9563371 Autoencoder Loss:  14.228205680847168\n",
            "Epoch:  81 Accuracy:  0.9574091 Autoencoder Loss:  14.92935848236084\n",
            "Epoch:  82 Accuracy:  0.9572029 Autoencoder Loss:  15.661945343017578\n",
            "Epoch:  83 Accuracy:  0.9604601 Autoencoder Loss:  13.788091659545898\n",
            "Epoch:  84 Accuracy:  0.9592232 Autoencoder Loss:  13.88123893737793\n",
            "Epoch:  85 Accuracy:  0.96091366 Autoencoder Loss:  14.4434814453125\n",
            "Epoch:  86 Accuracy:  0.96111983 Autoencoder Loss:  13.973437309265137\n",
            "Epoch:  87 Accuracy:  0.96206814 Autoencoder Loss:  14.509116172790527\n",
            "Epoch:  88 Accuracy:  0.96305764 Autoencoder Loss:  14.21800422668457\n",
            "Epoch:  89 Accuracy:  0.9617383 Autoencoder Loss:  13.754971504211426\n",
            "Epoch:  90 Accuracy:  0.9629752 Autoencoder Loss:  16.229597091674805\n",
            "Epoch:  91 Accuracy:  0.9651192 Autoencoder Loss:  14.440266609191895\n",
            "Epoch:  92 Accuracy:  0.9657376 Autoencoder Loss:  14.083748817443848\n",
            "Epoch:  93 Accuracy:  0.9653253 Autoencoder Loss:  13.761154174804688\n",
            "Epoch:  94 Accuracy:  0.9658201 Autoencoder Loss:  13.932577133178711\n",
            "Epoch:  95 Accuracy:  0.9652016 Autoencoder Loss:  14.342301368713379\n",
            "Epoch:  96 Accuracy:  0.968129 Autoencoder Loss:  14.212973594665527\n",
            "Epoch:  97 Accuracy:  0.9698194 Autoencoder Loss:  13.629919052124023\n",
            "Epoch:  98 Accuracy:  0.96891236 Autoencoder Loss:  13.840860366821289\n",
            "Epoch:  99 Accuracy:  0.9703142 Autoencoder Loss:  14.059391975402832\n",
            "Epoch:  100 Accuracy:  0.9704791 Autoencoder Loss:  15.180486679077148\n"
          ]
        }
      ],
      "source": [
        "for epoch in range(1, epoch_num + 1):\n",
        "    encoder.train(mode=True)\n",
        "    decoder.train(mode=True)\n",
        "    classifier.train(mode=True)\n",
        "\n",
        "    correct = torch.zeros(1).squeeze().to(device)\n",
        "    total = torch.zeros(1).squeeze().to(device)\n",
        "\n",
        "    for i, (img, label) in enumerate(train_dataloader):\n",
        "        img = torch.unsqueeze(img, 1) # Add channel axis (1 channel)\n",
        "        img = img.to(device)\n",
        "        label = label.to(device)\n",
        "\n",
        "        feat, i_1, i_2 = encoder(img)\n",
        "        pred_img = decoder(feat, i_1, i_2)\n",
        "        pred_label = classifier(feat)\n",
        "\n",
        "        classify_loss = crossentropy(pred_label, label)\n",
        "        autoencoder_loss = mse(pred_img, img)\n",
        "        loss = classify_loss + autoencoder_loss\n",
        "\n",
        "        prediction = torch.argmax(pred_label, 1)\n",
        "        correct += (prediction == label).sum().float()\n",
        "        total += len(label)\n",
        "\n",
        "        optimizer.zero_grad()\n",
        "        loss.backward()\n",
        "        optimizer.step()\n",
        "\n",
        "    scheduler.step(loss)\n",
        "    print('Epoch: ', epoch, 'Accuracy: ', (correct/total).cpu().detach().data.numpy(), 'Autoencoder Loss: ', autoencoder_loss.item())\n"
      ]
    },
    {
      "cell_type": "code",
      "execution_count": 24,
      "metadata": {
        "id": "7m7_9Kx3_1H6"
      },
      "outputs": [],
      "source": [
        "autoencoder = AutoEncoder(encoder, decoder, classifier)"
      ]
    },
    {
      "cell_type": "code",
      "source": [
        "autoencoder.eval()\n",
        "autoencoder.to(device)\n",
        "\n",
        "correct = torch.zeros(1).squeeze().to(device)\n",
        "total = torch.zeros(1).squeeze().to(device)\n",
        "\n",
        "test_img = []\n",
        "test_preds = []\n",
        "test_trues = []\n",
        "vib_feat = []\n",
        "reconstruct_spec = []\n",
        "\n",
        "with torch.no_grad():\n",
        "    for i, (img, label) in enumerate(test_dataloader):\n",
        "        img = torch.unsqueeze(img, 1) # Add channel axis (1 channel)\n",
        "        img = img.to(device)\n",
        "        label = label.to(device)\n",
        "\n",
        "        feat, pred_img, pred_label = autoencoder(img)\n",
        "\n",
        "        classify_loss = crossentropy(pred_label, label)\n",
        "        autoencoder_loss = mse(pred_img, img)\n",
        "        loss = classify_loss + autoencoder_loss\n",
        "\n",
        "        pred_label = pred_label.argmax(dim=1)\n",
        "        test_preds.extend(pred_label.detach().cpu().numpy())\n",
        "        test_trues.extend(label.detach().cpu().numpy())\n",
        "        vib_feat.extend(feat.detach().cpu().numpy())\n",
        "        reconstruct_spec.extend(pred_img.detach().cpu().numpy())\n",
        "        test_img.extend(img.detach().cpu().numpy())\n",
        "\n",
        "        correct += (pred_label == label).sum().float()\n",
        "        total += len(label)\n",
        "\n",
        "print('Accuracy: ', (correct/total).cpu().detach().data.numpy(), 'Autoencoder Loss: ', autoencoder_loss.item())"
      ],
      "metadata": {
        "id": "ZSmqEzGunWmo",
        "colab": {
          "base_uri": "https://localhost:8080/"
        },
        "outputId": "edd963c6-9f49-4da2-b293-cd0fa998bce2"
      },
      "execution_count": 25,
      "outputs": [
        {
          "output_type": "stream",
          "name": "stdout",
          "text": [
            "Accuracy:  0.8504939 Autoencoder Loss:  14.156593322753906\n"
          ]
        }
      ]
    },
    {
      "cell_type": "code",
      "source": [
        "conf_matrix = confusion_matrix(test_trues, test_preds)\n",
        "\n",
        "disp = ConfusionMatrixDisplay(confusion_matrix=conf_matrix, \n",
        "                              display_labels=['G1', 'G2', 'G3', 'G4', 'G6', 'G8', 'G9'])\n",
        "\n",
        "fig, ax = plt.subplots(figsize=(8,8))\n",
        "\n",
        "disp.plot(\n",
        "    include_values=True,\n",
        "    cmap=\"Greens\",\n",
        "    ax=ax,\n",
        "    xticks_rotation=\"horizontal\",\n",
        "    values_format=\"d\"\n",
        ")"
      ],
      "metadata": {
        "id": "pUxrjHXW05kK",
        "colab": {
          "base_uri": "https://localhost:8080/",
          "height": 679
        },
        "outputId": "65eb6b58-05a7-4071-fd4b-ec82c777dd68"
      },
      "execution_count": 26,
      "outputs": [
        {
          "output_type": "execute_result",
          "data": {
            "text/plain": [
              "<sklearn.metrics._plot.confusion_matrix.ConfusionMatrixDisplay at 0x7f0b128856d0>"
            ]
          },
          "metadata": {},
          "execution_count": 26
        },
        {
          "output_type": "display_data",
          "data": {
            "text/plain": [
              "<Figure size 800x800 with 2 Axes>"
            ],
            "image/png": "[encoded data removed]"
          },
          "metadata": {}
        }
      ]
    }
  ],
  "metadata": {
    "colab": {
      "provenance": []
    },
    "gpuClass": "standard",
    "kernelspec": {
      "display_name": "Python 3 (ipykernel)",
      "language": "python",
      "name": "python3"
    },
    "language_info": {
      "codemirror_mode": {
        "name": "ipython",
        "version": 3
      },
      "file_extension": ".py",
      "mimetype": "text/x-python",
      "name": "python",
      "nbconvert_exporter": "python",
      "pygments_lexer": "ipython3",
      "version": "3.10.10"
    },
    "vscode": {
      "interpreter": {
        "hash": "b0fa6594d8f4cbf19f97940f81e996739fb7646882a419484c72d19e05852a7e"
      }
    },
    "accelerator": "GPU"
  },
  "nbformat": 4,
  "nbformat_minor": 0
}